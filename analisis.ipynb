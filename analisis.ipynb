{
 "cells": [
  {
   "cell_type": "markdown",
   "metadata": {},
   "source": [
    "<h2 style=\"text-align: center; font-size: 30px; text-align: center; margin-bottom: 40px;\">Trabajo Final</h2>\n",
    "\n",
    "<div style=\"border: 1px solid #d2d2d2; border-top: none; border-radius: 8px; margin-bottom: 40px;\">\n",
    "    <h2 style=\"text-align: center; font-weight: bold; font-size: 20px; padding: 10px 20px; background-color: #38a2ad; color: #fff; border-radius: 4px; margin-bottom: 20px; margin-top: 0; border-bottom-left-radius: 0;  border-bottom-right-radius: 0;\">Alumnos</h2>\n",
    "    <div style=\"width: 450px; margin: 0 auto 30px;\">\n",
    "        <div style=\"overflow: hidden; border-bottom: 1px solid #d2d2d2;\">\n",
    "            <div style=\"float: left; width: 300px; padding-left: 8px;\">\n",
    "                <p style=\"font-family: 'Open Sans', sans-serif; font-size: 18px; font-weight: bold; color: #363636; line-height: 40px;\">Nombre y Apellido</p>\n",
    "            </div>\n",
    "            <div style=\"float: left; width: 150px;\">\n",
    "                <p style=\"font-family: 'Open Sans', sans-serif; font-size: 18px; font-weight: bold; color: #363636; line-height: 40px;\">Padrón</p>\n",
    "            </div>\n",
    "        </div>\n",
    "        <div style=\"overflow: hidden; border-bottom: 1px solid #d2d2d2;\">\n",
    "            <div style=\"float: left; width: 300px; padding-left: 8px;\">\n",
    "                <p style=\"font-family: 'Open Sans', sans-serif; font-size: 16px; color: #363636; line-height: 40px;\">Maria Florencia Prado</p>\n",
    "            </div>\n",
    "            <div style=\"float: left; width: 150px;\">\n",
    "                <p style=\"font-family: 'Open Sans', sans-serif; font-size: 16px; color: #363636; line-height: 40px;\">96626</p>\n",
    "            </div>\n",
    "        </div>\n",
    "         <div style=\"overflow: hidden; border-bottom: 1px solid #d2d2d2; \">\n",
    "            <div style=\"float: left; width: 300px; padding-left: 8px;\">\n",
    "                <p style=\"font-family: 'Open Sans', sans-serif; font-size: 16px; color: #363636; line-height: 40px;\">Matías Rozanec</p>\n",
    "            </div>\n",
    "            <div style=\"float: left; width: 150px;\">\n",
    "                <p style=\"font-family: 'Open Sans', sans-serif; font-size: 16px; color: #363636; line-height: 40px;\">97404</p>\n",
    "            </div>\n",
    "        </div>\n",
    "        \n",
    "</div>\n"
   ]
  },
  {
   "cell_type": "code",
   "execution_count": 1,
   "metadata": {},
   "outputs": [
    {
     "data": {
      "text/html": [
       "<script type=\"text/javascript\">window.PlotlyConfig = {MathJaxConfig: 'local'};</script><script type=\"text/javascript\">if (window.MathJax) {MathJax.Hub.Config({SVG: {font: \"STIX-Web\"}});}</script><script>requirejs.config({paths: { 'plotly': ['https://cdn.plot.ly/plotly-latest.min']},});if(!window._Plotly) {require(['plotly'],function(plotly) {window._Plotly=plotly;});}</script>"
      ],
      "text/vnd.plotly.v1+html": [
       "<script type=\"text/javascript\">window.PlotlyConfig = {MathJaxConfig: 'local'};</script><script type=\"text/javascript\">if (window.MathJax) {MathJax.Hub.Config({SVG: {font: \"STIX-Web\"}});}</script><script>requirejs.config({paths: { 'plotly': ['https://cdn.plot.ly/plotly-latest.min']},});if(!window._Plotly) {require(['plotly'],function(plotly) {window._Plotly=plotly;});}</script>"
      ]
     },
     "metadata": {},
     "output_type": "display_data"
    }
   ],
   "source": [
    "import pandas as pd\n",
    "import numpy as np\n",
    "import matplotlib\n",
    "import seaborn as sns\n",
    "import sklearn\n",
    "from matplotlib import pyplot as plt\n",
    "\n",
    "\n",
    "import plotly.offline as py\n",
    "from plotly import tools\n",
    "py.init_notebook_mode(connected=True)\n",
    "import plotly.graph_objs as go\n",
    "from plotly import tools\n",
    "\n",
    "import warnings\n",
    "warnings.filterwarnings(\"ignore\")"
   ]
  },
  {
   "cell_type": "code",
   "execution_count": 2,
   "metadata": {},
   "outputs": [],
   "source": [
    "apps = pd.read_csv('data/AppleStore.csv')\n",
    "desc = pd.read_csv('data/appleStore_description.csv')"
   ]
  },
  {
   "cell_type": "markdown",
   "metadata": {},
   "source": [
    "Con millones de aplicaciones en la actualidad, el siguiente conjunto de datos se ha convertido en la clave para obtener las mejores aplicaciones en la tienda de aplicaciones iOS. Este conjunto de datos contiene más de 7000 detalles de aplicaciones móviles de Apple iOS. Los datos se extrajeron de la API de búsqueda de iTunes en el sitio web de Apple Inc.\n",
    "\n",
    "Fecha de recolección de datos (de API); Julio 2017\n",
    "\n",
    "Dimensión del conjunto de datos; 7197 filas y 18 columnas (17 columnas + 1 de descripcion que está en un archivo aparte).\n"
   ]
  },
  {
   "cell_type": "code",
   "execution_count": 3,
   "metadata": {},
   "outputs": [
    {
     "data": {
      "text/plain": [
       "(7197, 17)"
      ]
     },
     "execution_count": 3,
     "metadata": {},
     "output_type": "execute_result"
    }
   ],
   "source": [
    "apps.shape"
   ]
  },
  {
   "cell_type": "code",
   "execution_count": 4,
   "metadata": {},
   "outputs": [
    {
     "data": {
      "text/plain": [
       "Unnamed: 0            int64\n",
       "id                    int64\n",
       "track_name           object\n",
       "size_bytes            int64\n",
       "currency             object\n",
       "price               float64\n",
       "rating_count_tot      int64\n",
       "rating_count_ver      int64\n",
       "user_rating         float64\n",
       "user_rating_ver     float64\n",
       "ver                  object\n",
       "cont_rating          object\n",
       "prime_genre          object\n",
       "sup_devices.num       int64\n",
       "ipadSc_urls.num       int64\n",
       "lang.num              int64\n",
       "vpp_lic               int64\n",
       "dtype: object"
      ]
     },
     "execution_count": 4,
     "metadata": {},
     "output_type": "execute_result"
    }
   ],
   "source": [
    "apps.dtypes"
   ]
  },
  {
   "cell_type": "markdown",
   "metadata": {},
   "source": [
    "vpp_lic: *The Apple Volume Purchase Program (VPP) is a service that allows organizations that have registered for the Apple VPP to purchase iOS apps in bulk, but not at discounted prices.* \n",
    "\n",
    "\n",
    "*After making a bulk purchase, the organization receives redemption codes for each app bought. The organization can then distribute app codes to individual users, who use the codes to \"purchase\" the app from the Apple App Store.*\n",
    "\n",
    "source: https://searchmobilecomputing.techtarget.com/definition/Apple-Volume-Purchase-Program-Apple-VPP"
   ]
  },
  {
   "cell_type": "code",
   "execution_count": 5,
   "metadata": {},
   "outputs": [],
   "source": [
    "# borramos la primer columna, Unnamed: 0, que en el file original funciona como indice\n",
    "apps.drop('Unnamed: 0', axis=1, inplace=True)"
   ]
  },
  {
   "cell_type": "code",
   "execution_count": 6,
   "metadata": {},
   "outputs": [
    {
     "data": {
      "text/html": [
       "<div>\n",
       "<style scoped>\n",
       "    .dataframe tbody tr th:only-of-type {\n",
       "        vertical-align: middle;\n",
       "    }\n",
       "\n",
       "    .dataframe tbody tr th {\n",
       "        vertical-align: top;\n",
       "    }\n",
       "\n",
       "    .dataframe thead th {\n",
       "        text-align: right;\n",
       "    }\n",
       "</style>\n",
       "<table border=\"1\" class=\"dataframe\">\n",
       "  <thead>\n",
       "    <tr style=\"text-align: right;\">\n",
       "      <th></th>\n",
       "      <th>id</th>\n",
       "      <th>track_name</th>\n",
       "      <th>size_bytes</th>\n",
       "      <th>currency</th>\n",
       "      <th>price</th>\n",
       "      <th>rating_count_tot</th>\n",
       "      <th>rating_count_ver</th>\n",
       "      <th>user_rating</th>\n",
       "      <th>user_rating_ver</th>\n",
       "      <th>ver</th>\n",
       "      <th>cont_rating</th>\n",
       "      <th>prime_genre</th>\n",
       "      <th>sup_devices.num</th>\n",
       "      <th>ipadSc_urls.num</th>\n",
       "      <th>lang.num</th>\n",
       "      <th>vpp_lic</th>\n",
       "    </tr>\n",
       "  </thead>\n",
       "  <tbody>\n",
       "    <tr>\n",
       "      <th>0</th>\n",
       "      <td>281656475</td>\n",
       "      <td>PAC-MAN Premium</td>\n",
       "      <td>100788224</td>\n",
       "      <td>USD</td>\n",
       "      <td>3.99</td>\n",
       "      <td>21292</td>\n",
       "      <td>26</td>\n",
       "      <td>4.0</td>\n",
       "      <td>4.5</td>\n",
       "      <td>6.3.5</td>\n",
       "      <td>4+</td>\n",
       "      <td>Games</td>\n",
       "      <td>38</td>\n",
       "      <td>5</td>\n",
       "      <td>10</td>\n",
       "      <td>1</td>\n",
       "    </tr>\n",
       "    <tr>\n",
       "      <th>1</th>\n",
       "      <td>281796108</td>\n",
       "      <td>Evernote - stay organized</td>\n",
       "      <td>158578688</td>\n",
       "      <td>USD</td>\n",
       "      <td>0.00</td>\n",
       "      <td>161065</td>\n",
       "      <td>26</td>\n",
       "      <td>4.0</td>\n",
       "      <td>3.5</td>\n",
       "      <td>8.2.2</td>\n",
       "      <td>4+</td>\n",
       "      <td>Productivity</td>\n",
       "      <td>37</td>\n",
       "      <td>5</td>\n",
       "      <td>23</td>\n",
       "      <td>1</td>\n",
       "    </tr>\n",
       "    <tr>\n",
       "      <th>2</th>\n",
       "      <td>281940292</td>\n",
       "      <td>WeatherBug - Local Weather, Radar, Maps, Alerts</td>\n",
       "      <td>100524032</td>\n",
       "      <td>USD</td>\n",
       "      <td>0.00</td>\n",
       "      <td>188583</td>\n",
       "      <td>2822</td>\n",
       "      <td>3.5</td>\n",
       "      <td>4.5</td>\n",
       "      <td>5.0.0</td>\n",
       "      <td>4+</td>\n",
       "      <td>Weather</td>\n",
       "      <td>37</td>\n",
       "      <td>5</td>\n",
       "      <td>3</td>\n",
       "      <td>1</td>\n",
       "    </tr>\n",
       "    <tr>\n",
       "      <th>3</th>\n",
       "      <td>282614216</td>\n",
       "      <td>eBay: Best App to Buy, Sell, Save! Online Shop...</td>\n",
       "      <td>128512000</td>\n",
       "      <td>USD</td>\n",
       "      <td>0.00</td>\n",
       "      <td>262241</td>\n",
       "      <td>649</td>\n",
       "      <td>4.0</td>\n",
       "      <td>4.5</td>\n",
       "      <td>5.10.0</td>\n",
       "      <td>12+</td>\n",
       "      <td>Shopping</td>\n",
       "      <td>37</td>\n",
       "      <td>5</td>\n",
       "      <td>9</td>\n",
       "      <td>1</td>\n",
       "    </tr>\n",
       "    <tr>\n",
       "      <th>4</th>\n",
       "      <td>282935706</td>\n",
       "      <td>Bible</td>\n",
       "      <td>92774400</td>\n",
       "      <td>USD</td>\n",
       "      <td>0.00</td>\n",
       "      <td>985920</td>\n",
       "      <td>5320</td>\n",
       "      <td>4.5</td>\n",
       "      <td>5.0</td>\n",
       "      <td>7.5.1</td>\n",
       "      <td>4+</td>\n",
       "      <td>Reference</td>\n",
       "      <td>37</td>\n",
       "      <td>5</td>\n",
       "      <td>45</td>\n",
       "      <td>1</td>\n",
       "    </tr>\n",
       "  </tbody>\n",
       "</table>\n",
       "</div>"
      ],
      "text/plain": [
       "          id                                         track_name  size_bytes  \\\n",
       "0  281656475                                    PAC-MAN Premium   100788224   \n",
       "1  281796108                          Evernote - stay organized   158578688   \n",
       "2  281940292    WeatherBug - Local Weather, Radar, Maps, Alerts   100524032   \n",
       "3  282614216  eBay: Best App to Buy, Sell, Save! Online Shop...   128512000   \n",
       "4  282935706                                              Bible    92774400   \n",
       "\n",
       "  currency  price  rating_count_tot  rating_count_ver  user_rating  \\\n",
       "0      USD   3.99             21292                26          4.0   \n",
       "1      USD   0.00            161065                26          4.0   \n",
       "2      USD   0.00            188583              2822          3.5   \n",
       "3      USD   0.00            262241               649          4.0   \n",
       "4      USD   0.00            985920              5320          4.5   \n",
       "\n",
       "   user_rating_ver     ver cont_rating   prime_genre  sup_devices.num  \\\n",
       "0              4.5   6.3.5          4+         Games               38   \n",
       "1              3.5   8.2.2          4+  Productivity               37   \n",
       "2              4.5   5.0.0          4+       Weather               37   \n",
       "3              4.5  5.10.0         12+      Shopping               37   \n",
       "4              5.0   7.5.1          4+     Reference               37   \n",
       "\n",
       "   ipadSc_urls.num  lang.num  vpp_lic  \n",
       "0                5        10        1  \n",
       "1                5        23        1  \n",
       "2                5         3        1  \n",
       "3                5         9        1  \n",
       "4                5        45        1  "
      ]
     },
     "execution_count": 6,
     "metadata": {},
     "output_type": "execute_result"
    }
   ],
   "source": [
    "apps.head()"
   ]
  },
  {
   "cell_type": "code",
   "execution_count": 7,
   "metadata": {},
   "outputs": [],
   "source": [
    "# remove repeated columns from description file\n",
    "desc.drop(['track_name','size_bytes'], axis=1,inplace=True)"
   ]
  },
  {
   "cell_type": "code",
   "execution_count": 8,
   "metadata": {},
   "outputs": [
    {
     "data": {
      "text/html": [
       "<div>\n",
       "<style scoped>\n",
       "    .dataframe tbody tr th:only-of-type {\n",
       "        vertical-align: middle;\n",
       "    }\n",
       "\n",
       "    .dataframe tbody tr th {\n",
       "        vertical-align: top;\n",
       "    }\n",
       "\n",
       "    .dataframe thead th {\n",
       "        text-align: right;\n",
       "    }\n",
       "</style>\n",
       "<table border=\"1\" class=\"dataframe\">\n",
       "  <thead>\n",
       "    <tr style=\"text-align: right;\">\n",
       "      <th></th>\n",
       "      <th>id</th>\n",
       "      <th>app_desc</th>\n",
       "    </tr>\n",
       "  </thead>\n",
       "  <tbody>\n",
       "    <tr>\n",
       "      <th>0</th>\n",
       "      <td>281656475</td>\n",
       "      <td>SAVE 20%, now only $3.99 for a limited time!\\n...</td>\n",
       "    </tr>\n",
       "    <tr>\n",
       "      <th>1</th>\n",
       "      <td>281796108</td>\n",
       "      <td>Let Evernote change the way you organize your ...</td>\n",
       "    </tr>\n",
       "    <tr>\n",
       "      <th>2</th>\n",
       "      <td>281940292</td>\n",
       "      <td>Download the most popular free weather app pow...</td>\n",
       "    </tr>\n",
       "    <tr>\n",
       "      <th>3</th>\n",
       "      <td>282614216</td>\n",
       "      <td>The eBay app is the best way to find anything ...</td>\n",
       "    </tr>\n",
       "    <tr>\n",
       "      <th>4</th>\n",
       "      <td>282935706</td>\n",
       "      <td>On more than 250 million devices around the wo...</td>\n",
       "    </tr>\n",
       "  </tbody>\n",
       "</table>\n",
       "</div>"
      ],
      "text/plain": [
       "          id                                           app_desc\n",
       "0  281656475  SAVE 20%, now only $3.99 for a limited time!\\n...\n",
       "1  281796108  Let Evernote change the way you organize your ...\n",
       "2  281940292  Download the most popular free weather app pow...\n",
       "3  282614216  The eBay app is the best way to find anything ...\n",
       "4  282935706  On more than 250 million devices around the wo..."
      ]
     },
     "execution_count": 8,
     "metadata": {},
     "output_type": "execute_result"
    }
   ],
   "source": [
    "desc.head()"
   ]
  },
  {
   "cell_type": "markdown",
   "metadata": {},
   "source": [
    "## Análisis de categorias"
   ]
  },
  {
   "cell_type": "code",
   "execution_count": 9,
   "metadata": {},
   "outputs": [
    {
     "data": {
      "text/plain": [
       "Text(0.5, 1.0, 'Genres count')"
      ]
     },
     "execution_count": 9,
     "metadata": {},
     "output_type": "execute_result"
    },
    {
     "data": {
      "image/png": "[encoded data removed]",
      "text/plain": [
       "<Figure size 1152x720 with 1 Axes>"
      ]
     },
     "metadata": {
      "needs_background": "light"
     },
     "output_type": "display_data"
    }
   ],
   "source": [
    "apps.prime_genre.value_counts(ascending=True).plot(kind='barh', figsize=(16,10)).set_title('Genres count')"
   ]
  },
  {
   "cell_type": "code",
   "execution_count": 10,
   "metadata": {
    "scrolled": false
   },
   "outputs": [
    {
     "data": {
      "text/plain": [
       "Text(0.5, 1.0, 'Genres excluding games')"
      ]
     },
     "execution_count": 10,
     "metadata": {},
     "output_type": "execute_result"
    },
    {
     "data": {
      "image/png": "[encoded data removed]",
      "text/plain": [
       "<Figure size 1152x720 with 1 Axes>"
      ]
     },
     "metadata": {
      "needs_background": "light"
     },
     "output_type": "display_data"
    }
   ],
   "source": [
    "#mismo plot filtrando games\n",
    "apps[apps['prime_genre'] != 'Games'].prime_genre.value_counts(ascending=True).plot(kind='barh', figsize=(16,10)).set_title('Genres excluding games')"
   ]
  },
  {
   "cell_type": "markdown",
   "metadata": {},
   "source": [
    "## Analisis de precios"
   ]
  },
  {
   "cell_type": "code",
   "execution_count": 11,
   "metadata": {
    "scrolled": true
   },
   "outputs": [
    {
     "data": {
      "text/plain": [
       "USD    7197\n",
       "Name: currency, dtype: int64"
      ]
     },
     "execution_count": 11,
     "metadata": {},
     "output_type": "execute_result"
    }
   ],
   "source": [
    "apps.currency.value_counts()"
   ]
  },
  {
   "cell_type": "markdown",
   "metadata": {},
   "source": [
    "Como todos los precios estan en USD, se puede descartar esta columna."
   ]
  },
  {
   "cell_type": "code",
   "execution_count": 12,
   "metadata": {},
   "outputs": [],
   "source": [
    "apps.drop('currency', axis=1, inplace=True)"
   ]
  },
  {
   "cell_type": "markdown",
   "metadata": {},
   "source": [
    "## Apps pagas vs gratuitas"
   ]
  },
  {
   "cell_type": "code",
   "execution_count": 13,
   "metadata": {},
   "outputs": [
    {
     "data": {
      "text/plain": [
       "Text(0.5, 1.0, 'Cantidad de Aplicaciones Pagas y Gratis ')"
      ]
     },
     "execution_count": 13,
     "metadata": {},
     "output_type": "execute_result"
    },
    {
     "data": {
      "image/png": "[encoded data removed]",
      "text/plain": [
       "<Figure size 1152x720 with 1 Axes>"
      ]
     },
     "metadata": {
      "needs_background": "light"
     },
     "output_type": "display_data"
    }
   ],
   "source": [
    "def paid(x):\n",
    "    if x>0:\n",
    "        return 'Paid'\n",
    "    else :\n",
    "        return'Free'\n",
    "\n",
    "apps['category']= apps.price.apply(lambda x : paid(x))\n",
    "\n",
    "apps['category'].value_counts(ascending=True).plot(kind='bar', figsize=(16,10)).set_title('Cantidad de Aplicaciones Pagas y Gratis ')"
   ]
  },
  {
   "cell_type": "code",
   "execution_count": 14,
   "metadata": {
    "scrolled": false
   },
   "outputs": [
    {
     "data": {
      "text/plain": [
       "Text(0.5, 1.0, 'Aplicaciones pagas por categoria')"
      ]
     },
     "execution_count": 14,
     "metadata": {},
     "output_type": "execute_result"
    },
    {
     "data": {
      "image/png": "[encoded data removed]",
      "text/plain": [
       "<Figure size 1152x720 with 1 Axes>"
      ]
     },
     "metadata": {
      "needs_background": "light"
     },
     "output_type": "display_data"
    }
   ],
   "source": [
    "# plot generos de apps pagas\n",
    "apps[apps['price'] > 0].prime_genre.value_counts(ascending=True).plot(kind='barh', figsize=(16,10)).set_title('Aplicaciones pagas por categoria')"
   ]
  },
  {
   "cell_type": "markdown",
   "metadata": {},
   "source": [
    "Cantidad de aplicaciones pagas por categoría"
   ]
  },
  {
   "cell_type": "code",
   "execution_count": 15,
   "metadata": {
    "scrolled": false
   },
   "outputs": [
    {
     "data": {
      "text/plain": [
       "Text(0.5, 1.0, 'Aplicaciones gratis por categoria')"
      ]
     },
     "execution_count": 15,
     "metadata": {},
     "output_type": "execute_result"
    },
    {
     "data": {
      "image/png": "[encoded data removed]",
      "text/plain": [
       "<Figure size 1152x720 with 1 Axes>"
      ]
     },
     "metadata": {
      "needs_background": "light"
     },
     "output_type": "display_data"
    }
   ],
   "source": [
    "# plot generos de apps gratis\n",
    "apps[apps['price'] == 0].prime_genre.value_counts(ascending=True).plot(kind='barh', figsize=(16,10)).set_title('Aplicaciones gratis por categoria')"
   ]
  },
  {
   "cell_type": "markdown",
   "metadata": {},
   "source": [
    "Cantidad de aplicaciones gratis por categoría"
   ]
  },
  {
   "cell_type": "code",
   "execution_count": 16,
   "metadata": {
    "scrolled": false
   },
   "outputs": [
    {
     "data": {
      "text/plain": [
       "Text(0.5, 1.0, 'Aplicaciones gratis por categoria, excluyendo Games ')"
      ]
     },
     "execution_count": 16,
     "metadata": {},
     "output_type": "execute_result"
    },
    {
     "data": {
      "image/png": "[encoded data removed]",
      "text/plain": [
       "<Figure size 1152x720 with 1 Axes>"
      ]
     },
     "metadata": {
      "needs_background": "light"
     },
     "output_type": "display_data"
    }
   ],
   "source": [
    "# mismo plot filtrando games\n",
    "apps[(apps['price'] == 0) & (apps['prime_genre'] != 'Games')].prime_genre.value_counts(ascending=True).plot(kind='barh', figsize=(16,10)).set_title('Aplicaciones gratis por categoria, excluyendo Games ')"
   ]
  },
  {
   "cell_type": "markdown",
   "metadata": {},
   "source": [
    "Cantidad de aplicaciones gratis por categoría filtrando games"
   ]
  },
  {
   "cell_type": "code",
   "execution_count": 17,
   "metadata": {
    "scrolled": false
   },
   "outputs": [
    {
     "data": {
      "text/plain": [
       "Text(0.5, 1.0, 'Aplicaciones pagas por categoria, excluyendo Games')"
      ]
     },
     "execution_count": 17,
     "metadata": {},
     "output_type": "execute_result"
    },
    {
     "data": {
      "image/png": "[encoded data removed]",
      "text/plain": [
       "<Figure size 1152x720 with 1 Axes>"
      ]
     },
     "metadata": {
      "needs_background": "light"
     },
     "output_type": "display_data"
    }
   ],
   "source": [
    "# mismo plot filtrando games\n",
    "apps[(apps['price'] > 0) & (apps['prime_genre'] != 'Games')].prime_genre.value_counts(ascending=True).plot(kind='barh', figsize=(16,10)).set_title('Aplicaciones pagas por categoria, excluyendo Games')"
   ]
  },
  {
   "cell_type": "markdown",
   "metadata": {},
   "source": [
    "Cantidad de aplicaciones pagas por categoria filtrando games"
   ]
  },
  {
   "cell_type": "code",
   "execution_count": 18,
   "metadata": {
    "scrolled": true
   },
   "outputs": [],
   "source": [
    "s = ['Games', 'Entertainment', 'Education', 'Photo & Video']\n",
    "\n",
    "def categ(x):\n",
    "    if x in s:\n",
    "        return x\n",
    "    else : \n",
    "        return \"Others\"\n",
    "\n",
    "apps['broad_genre']= apps.prime_genre.apply(lambda x : categ(x))"
   ]
  },
  {
   "cell_type": "code",
   "execution_count": 19,
   "metadata": {},
   "outputs": [
    {
     "data": {
      "text/html": [
       "<div>\n",
       "<style scoped>\n",
       "    .dataframe tbody tr th:only-of-type {\n",
       "        vertical-align: middle;\n",
       "    }\n",
       "\n",
       "    .dataframe tbody tr th {\n",
       "        vertical-align: top;\n",
       "    }\n",
       "\n",
       "    .dataframe thead th {\n",
       "        text-align: right;\n",
       "    }\n",
       "</style>\n",
       "<table border=\"1\" class=\"dataframe\">\n",
       "  <thead>\n",
       "    <tr style=\"text-align: right;\">\n",
       "      <th></th>\n",
       "      <th>Gratis</th>\n",
       "      <th>Pagas</th>\n",
       "      <th>Total</th>\n",
       "      <th>Porcentaje Pagas %</th>\n",
       "      <th>Porcentaje Gratis %</th>\n",
       "    </tr>\n",
       "  </thead>\n",
       "  <tbody>\n",
       "    <tr>\n",
       "      <th>Education</th>\n",
       "      <td>132</td>\n",
       "      <td>321</td>\n",
       "      <td>453</td>\n",
       "      <td>70.860927</td>\n",
       "      <td>29.139073</td>\n",
       "    </tr>\n",
       "    <tr>\n",
       "      <th>Entertainment</th>\n",
       "      <td>334</td>\n",
       "      <td>201</td>\n",
       "      <td>535</td>\n",
       "      <td>37.570093</td>\n",
       "      <td>62.429907</td>\n",
       "    </tr>\n",
       "    <tr>\n",
       "      <th>Games</th>\n",
       "      <td>2257</td>\n",
       "      <td>1605</td>\n",
       "      <td>3862</td>\n",
       "      <td>41.558778</td>\n",
       "      <td>58.441222</td>\n",
       "    </tr>\n",
       "    <tr>\n",
       "      <th>Others</th>\n",
       "      <td>1166</td>\n",
       "      <td>832</td>\n",
       "      <td>1998</td>\n",
       "      <td>41.641642</td>\n",
       "      <td>58.358358</td>\n",
       "    </tr>\n",
       "    <tr>\n",
       "      <th>Photo &amp; Video</th>\n",
       "      <td>167</td>\n",
       "      <td>182</td>\n",
       "      <td>349</td>\n",
       "      <td>52.148997</td>\n",
       "      <td>47.851003</td>\n",
       "    </tr>\n",
       "  </tbody>\n",
       "</table>\n",
       "</div>"
      ],
      "text/plain": [
       "               Gratis  Pagas  Total  Porcentaje Pagas %  Porcentaje Gratis %\n",
       "Education         132    321    453           70.860927            29.139073\n",
       "Entertainment     334    201    535           37.570093            62.429907\n",
       "Games            2257   1605   3862           41.558778            58.441222\n",
       "Others           1166    832   1998           41.641642            58.358358\n",
       "Photo & Video     167    182    349           52.148997            47.851003"
      ]
     },
     "execution_count": 19,
     "metadata": {},
     "output_type": "execute_result"
    }
   ],
   "source": [
    "free = apps[apps.price==0].broad_genre.value_counts().sort_index().to_frame()\n",
    "paid = apps[apps.price>0].broad_genre.value_counts().sort_index().to_frame()\n",
    "total = apps.broad_genre.value_counts().sort_index().to_frame()\n",
    "free.columns=['Gratis']\n",
    "paid.columns=['Pagas']\n",
    "total.columns=['Total']\n",
    "dist = free.join(paid).join(total)\n",
    "dist ['Porcentaje Pagas %'] = dist.Pagas*100/dist.Total\n",
    "dist ['Porcentaje Gratis %'] = dist.Gratis*100/dist.Total\n",
    "dist"
   ]
  },
  {
   "cell_type": "code",
   "execution_count": 20,
   "metadata": {
    "scrolled": false
   },
   "outputs": [
    {
     "data": {
      "image/png": "[encoded data removed]",
      "text/plain": [
       "<Figure size 1080x576 with 1 Axes>"
      ]
     },
     "metadata": {
      "needs_background": "light"
     },
     "output_type": "display_data"
    }
   ],
   "source": [
    "list_free= dist['Porcentaje Gratis %'].tolist()\n",
    "tuple_free = tuple(list_free)\n",
    "tuple_paidapps = tuple(dist['Porcentaje Pagas %'].tolist())\n",
    "plt.figure(figsize=(15,8))\n",
    "N=5\n",
    "ind = np.arange(N)   \n",
    "width =0.56   \n",
    "p1 = plt.bar(ind, tuple_free, width, color='#9ACD32')\n",
    "p2 = plt.bar(ind, tuple_paidapps, width,bottom=tuple_free,color='#4169E1')\n",
    "plt.xticks(ind,tuple(dist.index.tolist() ))\n",
    "plt.legend((p1[0], p2[0]), ('Gratis', 'Pagas'))\n",
    "plt.show()\n",
    "\n",
    "pies = dist[['Porcentaje Gratis %','Porcentaje Pagas %']]\n",
    "pies.columns=['free %','paid %']\n",
    "plt.show()"
   ]
  },
  {
   "cell_type": "markdown",
   "metadata": {},
   "source": [
    "Vemos que para la única categoría que la cantidad de aplicaciones pagas supera a la cantidad de aplicaciones no pagas es Eduación\n",
    "\n"
   ]
  },
  {
   "cell_type": "code",
   "execution_count": 21,
   "metadata": {},
   "outputs": [
    {
     "data": {
      "text/plain": [
       "Text(0.5, 1.0, 'Cantiadd de aplicaciones por precios')"
      ]
     },
     "execution_count": 21,
     "metadata": {},
     "output_type": "execute_result"
    },
    {
     "data": {
      "image/png": "[encoded data removed]",
      "text/plain": [
       "<Figure size 1152x720 with 1 Axes>"
      ]
     },
     "metadata": {
      "needs_background": "light"
     },
     "output_type": "display_data"
    }
   ],
   "source": [
    "apps.price.value_counts(ascending=True).plot(kind='barh', figsize=(16,10)).set_title('Cantiadd de aplicaciones por precios')"
   ]
  },
  {
   "cell_type": "markdown",
   "metadata": {},
   "source": [
    "Como se puede ver, la gran mayoría de apps son gratis; de las pagas los precios van hasta los USD 10, a partir de ahí ya hay muy pocos casos como para generalizar."
   ]
  },
  {
   "cell_type": "code",
   "execution_count": 22,
   "metadata": {
    "scrolled": false
   },
   "outputs": [
    {
     "data": {
      "application/vnd.plotly.v1+json": {
       "config": {
        "linkText": "Export to plot.ly",
        "plotlyServerURL": "https://plot.ly",
        "showLink": true
       },
       "data": [
        {
         "marker": {
          "line": {
           "color": "rgb(8, 48, 107)",
           "width": 1.5
          }
         },
         "opacity": 0.7,
         "text": [
          "12.18%",
          "8.51%",
          "7.23%",
          "7.13%",
          "6.61%",
          "6.37%",
          "6.02%",
          "5.15%",
          "4.43%",
          "3.95%",
          "3.29%",
          "3.12%",
          "3.00%",
          "2.81%",
          "2.66%",
          "2.56%",
          "2.55%",
          "2.31%",
          "2.14%",
          "2.14%",
          "2.07%",
          "1.98%",
          "1.80%"
         ],
         "type": "bar",
         "uid": "a97415d7-8d6c-4422-9169-8fbee18505e2",
         "x": [
          "Medical",
          "Music",
          "Catalogs",
          "Business",
          "Navigation",
          "Reference",
          "Productivity",
          "Education",
          "Food & Drink",
          "Book",
          "Travel",
          "Games",
          "Health & Fitness",
          "Sports",
          "Utilities",
          "Photo & Video",
          "Weather",
          "Lifestyle",
          "Entertainment",
          "Social Networking",
          "News",
          "Finance",
          "Shopping"
         ],
         "y": [
          13.456666666666669,
          9.398450704225358,
          7.99,
          7.881891891891893,
          7.297692307692312,
          7.03545454545455,
          6.6451724137931105,
          5.684704049844246,
          4.889999999999998,
          4.3595652173913075,
          3.629999999999998,
          3.447943925233516,
          3.3169230769230817,
          3.104285714285712,
          2.93964028776979,
          2.8251648351648413,
          2.819268292682925,
          2.5499999999999985,
          2.3681094527363244,
          2.3650000000000007,
          2.284117647058824,
          2.1900000000000004,
          1.99
         ]
        }
       ],
       "layout": {
        "height": 500,
        "margin": {
         "l": 100
        },
        "title": "Precio promedio de aplicaciones pagas",
        "width": 800,
        "xaxis": {
         "autorange": true,
         "range": [
          -0.5,
          22.5
         ],
         "type": "category"
        },
        "yaxis": {
         "autorange": true,
         "range": [
          0,
          14.164912280701756
         ],
         "title": "Precio promedio",
         "type": "linear"
        }
       }
      },
      "image/png": "[encoded data removed]",
      "text/html": [
       "<div id=\"599ec340-4336-4571-b534-06ccf896c50e\" style=\"height: 500px; width: 800px;\" class=\"plotly-graph-div\"></div><script type=\"text/javascript\">require([\"plotly\"], function(Plotly) { window.PLOTLYENV=window.PLOTLYENV || {};window.PLOTLYENV.BASE_URL=\"https://plot.ly\";Plotly.newPlot(\"599ec340-4336-4571-b534-06ccf896c50e\", [{\"y\": [13.456666666666669, 9.398450704225358, 7.99, 7.881891891891893, 7.297692307692312, 7.03545454545455, 6.6451724137931105, 5.684704049844246, 4.889999999999998, 4.3595652173913075, 3.629999999999998, 3.447943925233516, 3.3169230769230817, 3.104285714285712, 2.93964028776979, 2.8251648351648413, 2.819268292682925, 2.5499999999999985, 2.3681094527363244, 2.3650000000000007, 2.284117647058824, 2.1900000000000004, 1.99], \"x\": [\"Medical\", \"Music\", \"Catalogs\", \"Business\", \"Navigation\", \"Reference\", \"Productivity\", \"Education\", \"Food & Drink\", \"Book\", \"Travel\", \"Games\", \"Health & Fitness\", \"Sports\", \"Utilities\", \"Photo & Video\", \"Weather\", \"Lifestyle\", \"Entertainment\", \"Social Networking\", \"News\", \"Finance\", \"Shopping\"], \"type\": \"bar\", \"uid\": \"a97415d7-8d6c-4422-9169-8fbee18505e2\", \"opacity\": 0.7, \"text\": [\"12.18%\", \"8.51%\", \"7.23%\", \"7.13%\", \"6.61%\", \"6.37%\", \"6.02%\", \"5.15%\", \"4.43%\", \"3.95%\", \"3.29%\", \"3.12%\", \"3.00%\", \"2.81%\", \"2.66%\", \"2.56%\", \"2.55%\", \"2.31%\", \"2.14%\", \"2.14%\", \"2.07%\", \"1.98%\", \"1.80%\"], \"marker\": {\"line\": {\"width\": 1.5, \"color\": \"rgb(8, 48, 107)\"}}}], {\"title\": \"Precio promedio de aplicaciones pagas\", \"height\": 500, \"margin\": {\"l\": 100}, \"yaxis\": {\"title\": \"Precio promedio\"}, \"width\": 800}, {\"showLink\": true, \"linkText\": \"Export to plot.ly\", \"plotlyServerURL\": \"https://plot.ly\"})});</script>"
      ],
      "text/vnd.plotly.v1+html": [
       "<div id=\"599ec340-4336-4571-b534-06ccf896c50e\" style=\"height: 500px; width: 800px;\" class=\"plotly-graph-div\"></div><script type=\"text/javascript\">require([\"plotly\"], function(Plotly) { window.PLOTLYENV=window.PLOTLYENV || {};window.PLOTLYENV.BASE_URL=\"https://plot.ly\";Plotly.newPlot(\"599ec340-4336-4571-b534-06ccf896c50e\", [{\"y\": [13.456666666666669, 9.398450704225358, 7.99, 7.881891891891893, 7.297692307692312, 7.03545454545455, 6.6451724137931105, 5.684704049844246, 4.889999999999998, 4.3595652173913075, 3.629999999999998, 3.447943925233516, 3.3169230769230817, 3.104285714285712, 2.93964028776979, 2.8251648351648413, 2.819268292682925, 2.5499999999999985, 2.3681094527363244, 2.3650000000000007, 2.284117647058824, 2.1900000000000004, 1.99], \"x\": [\"Medical\", \"Music\", \"Catalogs\", \"Business\", \"Navigation\", \"Reference\", \"Productivity\", \"Education\", \"Food & Drink\", \"Book\", \"Travel\", \"Games\", \"Health & Fitness\", \"Sports\", \"Utilities\", \"Photo & Video\", \"Weather\", \"Lifestyle\", \"Entertainment\", \"Social Networking\", \"News\", \"Finance\", \"Shopping\"], \"type\": \"bar\", \"uid\": \"a97415d7-8d6c-4422-9169-8fbee18505e2\", \"opacity\": 0.7, \"text\": [\"12.18%\", \"8.51%\", \"7.23%\", \"7.13%\", \"6.61%\", \"6.37%\", \"6.02%\", \"5.15%\", \"4.43%\", \"3.95%\", \"3.29%\", \"3.12%\", \"3.00%\", \"2.81%\", \"2.66%\", \"2.56%\", \"2.55%\", \"2.31%\", \"2.14%\", \"2.14%\", \"2.07%\", \"1.98%\", \"1.80%\"], \"marker\": {\"line\": {\"width\": 1.5, \"color\": \"rgb(8, 48, 107)\"}}}], {\"title\": \"Precio promedio de aplicaciones pagas\", \"height\": 500, \"margin\": {\"l\": 100}, \"yaxis\": {\"title\": \"Precio promedio\"}, \"width\": 800}, {\"showLink\": true, \"linkText\": \"Export to plot.ly\", \"plotlyServerURL\": \"https://plot.ly\"})});</script>"
      ]
     },
     "metadata": {},
     "output_type": "display_data"
    }
   ],
   "source": [
    "apps['isNotFree'] = apps['price'].apply(lambda x: 1 if x > 0 else 0)\n",
    "df_app_notfree = apps[apps['isNotFree'] == 1]\n",
    "df_app_free = apps[apps['isNotFree'] == 0]\n",
    "cnt_srs = df_app_notfree[['prime_genre', 'price']].groupby('prime_genre').mean()['price'].sort_values(ascending=False)\n",
    "text = ['{:.2f}%'.format(100 * (value / cnt_srs.sum())) for value in cnt_srs.values]\n",
    "\n",
    "trace = go.Bar(\n",
    "    x = cnt_srs.index,\n",
    "    y = cnt_srs.values,\n",
    "    text = text,\n",
    "    marker = dict(\n",
    "        line = dict(color='rgb(8, 48, 107)',\n",
    "                    width = 1.5)\n",
    "    ),\n",
    "    opacity = 0.7\n",
    ")\n",
    "data = [trace]\n",
    "\n",
    "layout = go.Layout(\n",
    "    title = 'Precio promedio de aplicaciones pagas',\n",
    "    margin = dict(\n",
    "        l = 100\n",
    "    ),\n",
    "    yaxis = dict(\n",
    "        title = 'Precio promedio'\n",
    "    ),\n",
    "    width = 800,\n",
    "    height = 500\n",
    ")\n",
    "\n",
    "fig = go.Figure(data=data, layout=layout)\n",
    "py.iplot(fig)"
   ]
  },
  {
   "cell_type": "markdown",
   "metadata": {},
   "source": [
    "Dentro de las aplicaciones pagas, las aplicaciones Medicas son las mas caras, con un promedio de casi 14 dolares. \n",
    "Y si analizamos aquellas categorías con mayor cantidad de aplicaciones en el store mantienen precios menores a 6 dólares en promedio, como lo son Games, Entretainment, Education y  Photo & Video"
   ]
  },
  {
   "cell_type": "markdown",
   "metadata": {},
   "source": [
    "## User ratings\n",
    "---\n",
    "Una vez analizadas la cantidad de aplicaciones pagas y gratis por categoría nos preguntamos si las aplicaciones pagas son realmente buenas. Esto lo vamos a analizar siguiendo la opinión de los usuarios.\n",
    "\n",
    "El campo que define la opinion de los usuarios es USER RATING, que tiene valores entre 0 y 5, siendo 5 la mejor puntuacion."
   ]
  },
  {
   "cell_type": "code",
   "execution_count": 23,
   "metadata": {
    "scrolled": true
   },
   "outputs": [],
   "source": [
    "s = ['Games', 'Entertainment', 'Education', 'Photo & Video', 'Social Networking']\n",
    "\n",
    "def categ(x):\n",
    "    if x in s:\n",
    "        return x\n",
    "    else : \n",
    "        return \"Others\"\n",
    "\n",
    "apps['broad_genre']= apps.prime_genre.apply(lambda x : categ(x))\n"
   ]
  },
  {
   "cell_type": "code",
   "execution_count": 24,
   "metadata": {},
   "outputs": [
    {
     "data": {
      "image/png": "[encoded data removed]",
      "text/plain": [
       "<Figure size 1080x576 with 1 Axes>"
      ]
     },
     "metadata": {
      "needs_background": "light"
     },
     "output_type": "display_data"
    }
   ],
   "source": [
    "plt.figure(figsize=(15,8))\n",
    "plt.style.use('fast')\n",
    "plt.ylim([0,5])\n",
    "plt.title(\"Distribucion de User Ratings\")\n",
    "sns.violinplot(data=apps, y ='user_rating',x='broad_genre',hue='category',\n",
    "               vertical=True,kde=False,split=True ,linewidth=2,\n",
    "               scale ='count', palette=['#4169E1','#9ACD32'])\n",
    "plt.xlabel(\" \")\n",
    "plt.ylabel(\"Rating (0-5)\")\n",
    "\n",
    "plt.show()"
   ]
  },
  {
   "cell_type": "markdown",
   "metadata": {},
   "source": [
    "Los resultados varían parecido en el caso de las apps pagas y de las gratuitas. En general vemos que la distribución de las puntuaciones de usuarios son parecidas en todas las categorías. \n",
    "\n",
    "Se puede destacar que para el caso de `entretenimiento` y `otros` sí se aprecian puntuaciones entre 1 y 2, mientras que en el resto de las categorías las puntuaciones más presentes son 0 y luego entre 3 y 5, generalmente los valores entre 1 y 2 son poco usados. De todos modos las distribuciones son parecidas tanto para pagas como no pagas.\n",
    "\n",
    "Se puede notar que en las apps pagas, en el género *Education* hay mayor concentración en la puntuación 4 para las pagas, mientras que para las no pagas, entre los valors 3 y 5, la distribuión es mas pareja.\n",
    "\n",
    "La mayoría de apps relacionadas a Redes sociales por amplia diferencia es gratis. No sería popular tener que pagar por una red social; ademas las redes sociales generan ingresos mediante publicidades, por lo que conviene tener una base amplia de usuarios, por más que eso signifique que ellos estén 'gratis'.\n",
    "\n",
    "\n",
    "No perder de vista que todas las apps también pueden generar ingresos mediante *in app purchases*. \n"
   ]
  },
  {
   "cell_type": "code",
   "execution_count": 25,
   "metadata": {
    "scrolled": false
   },
   "outputs": [
    {
     "data": {
      "application/vnd.plotly.v1+json": {
       "config": {
        "linkText": "Export to plot.ly",
        "plotlyServerURL": "https://plot.ly",
        "showLink": true
       },
       "data": [
        {
         "marker": {
          "line": {
           "color": "rgb(8, 48, 107)",
           "width": 1.5
          }
         },
         "opacity": 0.7,
         "type": "bar",
         "uid": "b7c98e6a-6a64-4a4d-9029-ddc60b99b727",
         "x": [
          "Productivity",
          "Music",
          "Photo & Video",
          "Business",
          "Health & Fitness",
          "Games",
          "Weather",
          "Shopping",
          "Reference",
          "Travel",
          "Education",
          "Medical",
          "Utilities",
          "Entertainment",
          "Food & Drink",
          "Social Networking",
          "Sports",
          "News",
          "Lifestyle",
          "Navigation",
          "Book",
          "Finance",
          "Catalogs"
         ],
         "y": [
          4.00561797752809,
          3.9782608695652173,
          3.8008595988538683,
          3.745614035087719,
          3.7,
          3.6850077679958573,
          3.5972222222222223,
          3.540983606557377,
          3.453125,
          3.376543209876543,
          3.376379690949227,
          3.369565217391304,
          3.278225806451613,
          3.2467289719626167,
          3.1825396825396823,
          2.9850299401197606,
          2.982456140350877,
          2.98,
          2.8055555555555554,
          2.6847826086956523,
          2.4776785714285716,
          2.4326923076923075,
          2.1
         ]
        }
       ],
       "layout": {
        "height": 500,
        "margin": {
         "l": 100
        },
        "title": "User rating promedio por categoría",
        "width": 800,
        "xaxis": {
         "autorange": true,
         "range": [
          -0.5,
          22.5
         ],
         "title": "Categoría",
         "type": "category"
        },
        "yaxis": {
         "autorange": true,
         "range": [
          0,
          4.216439976345358
         ],
         "title": "User Rating promedio",
         "type": "linear"
        }
       }
      },
      "image/png": "[encoded data removed]",
      "text/html": [
       "<div id=\"93ac2cfb-817b-40c4-ae02-85c75eaa3e89\" style=\"height: 500px; width: 800px;\" class=\"plotly-graph-div\"></div><script type=\"text/javascript\">require([\"plotly\"], function(Plotly) { window.PLOTLYENV=window.PLOTLYENV || {};window.PLOTLYENV.BASE_URL=\"https://plot.ly\";Plotly.newPlot(\"93ac2cfb-817b-40c4-ae02-85c75eaa3e89\", [{\"y\": [4.00561797752809, 3.9782608695652173, 3.8008595988538683, 3.745614035087719, 3.7, 3.6850077679958573, 3.5972222222222223, 3.540983606557377, 3.453125, 3.376543209876543, 3.376379690949227, 3.369565217391304, 3.278225806451613, 3.2467289719626167, 3.1825396825396823, 2.9850299401197606, 2.982456140350877, 2.98, 2.8055555555555554, 2.6847826086956523, 2.4776785714285716, 2.4326923076923075, 2.1], \"marker\": {\"line\": {\"width\": 1.5, \"color\": \"rgb(8, 48, 107)\"}}, \"opacity\": 0.7, \"type\": \"bar\", \"x\": [\"Productivity\", \"Music\", \"Photo & Video\", \"Business\", \"Health & Fitness\", \"Games\", \"Weather\", \"Shopping\", \"Reference\", \"Travel\", \"Education\", \"Medical\", \"Utilities\", \"Entertainment\", \"Food & Drink\", \"Social Networking\", \"Sports\", \"News\", \"Lifestyle\", \"Navigation\", \"Book\", \"Finance\", \"Catalogs\"], \"uid\": \"b7c98e6a-6a64-4a4d-9029-ddc60b99b727\"}], {\"title\": \"User rating promedio por categor\\u00eda\", \"width\": 800, \"margin\": {\"l\": 100}, \"yaxis\": {\"title\": \"User Rating promedio\"}, \"xaxis\": {\"title\": \"Categor\\u00eda\"}, \"height\": 500}, {\"showLink\": true, \"linkText\": \"Export to plot.ly\", \"plotlyServerURL\": \"https://plot.ly\"})});</script>"
      ],
      "text/vnd.plotly.v1+html": [
       "<div id=\"93ac2cfb-817b-40c4-ae02-85c75eaa3e89\" style=\"height: 500px; width: 800px;\" class=\"plotly-graph-div\"></div><script type=\"text/javascript\">require([\"plotly\"], function(Plotly) { window.PLOTLYENV=window.PLOTLYENV || {};window.PLOTLYENV.BASE_URL=\"https://plot.ly\";Plotly.newPlot(\"93ac2cfb-817b-40c4-ae02-85c75eaa3e89\", [{\"y\": [4.00561797752809, 3.9782608695652173, 3.8008595988538683, 3.745614035087719, 3.7, 3.6850077679958573, 3.5972222222222223, 3.540983606557377, 3.453125, 3.376543209876543, 3.376379690949227, 3.369565217391304, 3.278225806451613, 3.2467289719626167, 3.1825396825396823, 2.9850299401197606, 2.982456140350877, 2.98, 2.8055555555555554, 2.6847826086956523, 2.4776785714285716, 2.4326923076923075, 2.1], \"marker\": {\"line\": {\"width\": 1.5, \"color\": \"rgb(8, 48, 107)\"}}, \"opacity\": 0.7, \"type\": \"bar\", \"x\": [\"Productivity\", \"Music\", \"Photo & Video\", \"Business\", \"Health & Fitness\", \"Games\", \"Weather\", \"Shopping\", \"Reference\", \"Travel\", \"Education\", \"Medical\", \"Utilities\", \"Entertainment\", \"Food & Drink\", \"Social Networking\", \"Sports\", \"News\", \"Lifestyle\", \"Navigation\", \"Book\", \"Finance\", \"Catalogs\"], \"uid\": \"b7c98e6a-6a64-4a4d-9029-ddc60b99b727\"}], {\"title\": \"User rating promedio por categor\\u00eda\", \"width\": 800, \"margin\": {\"l\": 100}, \"yaxis\": {\"title\": \"User Rating promedio\"}, \"xaxis\": {\"title\": \"Categor\\u00eda\"}, \"height\": 500}, {\"showLink\": true, \"linkText\": \"Export to plot.ly\", \"plotlyServerURL\": \"https://plot.ly\"})});</script>"
      ]
     },
     "metadata": {},
     "output_type": "display_data"
    }
   ],
   "source": [
    "cnt_srs = apps[['prime_genre', 'user_rating']].groupby('prime_genre').mean()['user_rating'].sort_values(ascending=False)\n",
    "\n",
    "trace = go.Bar(\n",
    "    x = cnt_srs.index,\n",
    "    y = cnt_srs.values,\n",
    "    marker = dict(\n",
    "        line = dict(color='rgb(8, 48, 107)',\n",
    "                    width = 1.5)\n",
    "    ),\n",
    "    opacity = 0.7\n",
    ")\n",
    "data = [trace]\n",
    "\n",
    "layout = go.Layout(\n",
    "    title = 'User rating promedio por categoría',\n",
    "    margin = dict(\n",
    "        l = 100\n",
    "    ),\n",
    "    xaxis = dict(\n",
    "        title = 'Categoría'\n",
    "    ),\n",
    "    yaxis = dict(\n",
    "        title = 'User Rating promedio'\n",
    "    ),\n",
    "    width = 800,\n",
    "    height = 500\n",
    ")\n",
    "\n",
    "fig = go.Figure(data=data, layout=layout)\n",
    "py.iplot(fig)"
   ]
  },
  {
   "cell_type": "code",
   "execution_count": 26,
   "metadata": {},
   "outputs": [
    {
     "data": {
      "text/plain": [
       "Text(0.5, 1.0, 'Average user rating per genre')"
      ]
     },
     "execution_count": 26,
     "metadata": {},
     "output_type": "execute_result"
    },
    {
     "data": {
      "image/png": "[encoded data removed]",
      "text/plain": [
       "<Figure size 1152x720 with 1 Axes>"
      ]
     },
     "metadata": {
      "needs_background": "light"
     },
     "output_type": "display_data"
    }
   ],
   "source": [
    "interest_areas =  ['Games', 'Entertainment', 'Education', 'Photo & Video']\n",
    "apps[apps.prime_genre.isin(interest_areas)].groupby('prime_genre')['user_rating'].mean().plot(kind='bar', figsize=(16,10)).set_title('Average user rating per genre')"
   ]
  },
  {
   "cell_type": "markdown",
   "metadata": {},
   "source": [
    "### cont_rating"
   ]
  },
  {
   "cell_type": "code",
   "execution_count": 27,
   "metadata": {},
   "outputs": [
    {
     "data": {
      "text/plain": [
       "Text(0.5, 1.0, 'A que publico estan orientadas las apps?')"
      ]
     },
     "execution_count": 27,
     "metadata": {},
     "output_type": "execute_result"
    },
    {
     "data": {
      "image/png": "[encoded data removed]",
      "text/plain": [
       "<Figure size 1152x720 with 1 Axes>"
      ]
     },
     "metadata": {
      "needs_background": "light"
     },
     "output_type": "display_data"
    }
   ],
   "source": [
    "\n",
    "# veamos los ratings de contenido de las areas de interes\n",
    "apps[apps['prime_genre'].isin(interest_areas)].cont_rating.value_counts(ascending=True).plot(kind='barh', figsize=(16,10)).set_title('A que publico estan orientadas las apps?')"
   ]
  },
  {
   "cell_type": "markdown",
   "metadata": {},
   "source": [
    "La columna de rating edad se transforma en feature numérico, ya que no tiene sentido que sea del tipo _object_."
   ]
  },
  {
   "cell_type": "code",
   "execution_count": 28,
   "metadata": {},
   "outputs": [],
   "source": [
    "apps.cont_rating = apps.cont_rating.apply(lambda x: int(x.split('+')[0]))"
   ]
  },
  {
   "cell_type": "markdown",
   "metadata": {},
   "source": [
    "### track_name"
   ]
  },
  {
   "cell_type": "code",
   "execution_count": 29,
   "metadata": {},
   "outputs": [],
   "source": [
    "apps.track_name = apps.track_name.apply(lambda x: x.lower())"
   ]
  },
  {
   "cell_type": "markdown",
   "metadata": {},
   "source": [
    "### ver"
   ]
  },
  {
   "cell_type": "markdown",
   "metadata": {},
   "source": [
    "Nos quedamos con la *major version* de las apps."
   ]
  },
  {
   "cell_type": "code",
   "execution_count": 30,
   "metadata": {},
   "outputs": [],
   "source": [
    "# for Apple versioning criteria, see: https://en.wikipedia.org/wiki/Software_versioning#Apple\n",
    "apps['major_version'] = apps.ver.apply(lambda x: x.split('.')[0])"
   ]
  },
  {
   "cell_type": "code",
   "execution_count": 31,
   "metadata": {
    "scrolled": false
   },
   "outputs": [
    {
     "data": {
      "text/plain": [
       "Text(0.5, 1.0, 'version numbers')"
      ]
     },
     "execution_count": 31,
     "metadata": {},
     "output_type": "execute_result"
    },
    {
     "data": {
      "image/png": "[encoded data removed]",
      "text/plain": [
       "<Figure size 1152x720 with 1 Axes>"
      ]
     },
     "metadata": {
      "needs_background": "light"
     },
     "output_type": "display_data"
    }
   ],
   "source": [
    "apps.major_version.value_counts(ascending=True).sort_index().plot(kind='barh', figsize=(16,10)).set_title('version numbers')"
   ]
  },
  {
   "cell_type": "markdown",
   "metadata": {},
   "source": [
    "Se observan versiones un poco raras.... como `1,2` o `iOV2`, `9999`, `2000`.... no es posible que esto sean numeros de versiones reales.\n",
    "\n",
    "Mas alla de eso, la gran mayoria esta en su primera version, llegando hasta la 9. Mas alla de la 9"
   ]
  },
  {
   "cell_type": "code",
   "execution_count": 32,
   "metadata": {},
   "outputs": [],
   "source": [
    "# pasaje a mayor version a numerico descartando los registros que no son validos. \n",
    "# Consideramos que los registros que no tienen nro de version valido, no se pueden considerar seriamente para un analisis.\n",
    "apps.loc[:,'major_version'] = pd.to_numeric(apps['major_version'], errors='coerce')\n",
    "apps = apps.dropna(subset=['major_version'])\n",
    "apps.loc[:,'major_version'] = apps['major_version'].astype('int')"
   ]
  },
  {
   "cell_type": "code",
   "execution_count": 33,
   "metadata": {
    "scrolled": false
   },
   "outputs": [
    {
     "data": {
      "text/plain": [
       "Text(0.5, 1.0, 'Número de versión hasta 10')"
      ]
     },
     "execution_count": 33,
     "metadata": {},
     "output_type": "execute_result"
    },
    {
     "data": {
      "image/png": "[encoded data removed]",
      "text/plain": [
       "<Figure size 1152x720 with 1 Axes>"
      ]
     },
     "metadata": {
      "needs_background": "light"
     },
     "output_type": "display_data"
    }
   ],
   "source": [
    "apps[apps['major_version'].isin(range(11))].major_version.value_counts(ascending=True).sort_index().plot(kind='barh', figsize=(16,10)).set_title('Número de versión hasta 10')"
   ]
  },
  {
   "cell_type": "markdown",
   "metadata": {},
   "source": [
    "# Merge datasets"
   ]
  },
  {
   "cell_type": "code",
   "execution_count": 34,
   "metadata": {},
   "outputs": [],
   "source": [
    "# se hace left join porque importan solamente los registros que estan en apps df\n",
    "m = apps.merge(desc, how='left')"
   ]
  },
  {
   "cell_type": "code",
   "execution_count": 35,
   "metadata": {},
   "outputs": [
    {
     "data": {
      "text/html": [
       "<div>\n",
       "<style scoped>\n",
       "    .dataframe tbody tr th:only-of-type {\n",
       "        vertical-align: middle;\n",
       "    }\n",
       "\n",
       "    .dataframe tbody tr th {\n",
       "        vertical-align: top;\n",
       "    }\n",
       "\n",
       "    .dataframe thead th {\n",
       "        text-align: right;\n",
       "    }\n",
       "</style>\n",
       "<table border=\"1\" class=\"dataframe\">\n",
       "  <thead>\n",
       "    <tr style=\"text-align: right;\">\n",
       "      <th></th>\n",
       "      <th>id</th>\n",
       "      <th>track_name</th>\n",
       "      <th>size_bytes</th>\n",
       "      <th>price</th>\n",
       "      <th>rating_count_tot</th>\n",
       "      <th>rating_count_ver</th>\n",
       "      <th>user_rating</th>\n",
       "      <th>user_rating_ver</th>\n",
       "      <th>ver</th>\n",
       "      <th>cont_rating</th>\n",
       "      <th>prime_genre</th>\n",
       "      <th>sup_devices.num</th>\n",
       "      <th>ipadSc_urls.num</th>\n",
       "      <th>lang.num</th>\n",
       "      <th>vpp_lic</th>\n",
       "      <th>category</th>\n",
       "      <th>broad_genre</th>\n",
       "      <th>isNotFree</th>\n",
       "      <th>major_version</th>\n",
       "      <th>app_desc</th>\n",
       "    </tr>\n",
       "  </thead>\n",
       "  <tbody>\n",
       "    <tr>\n",
       "      <th>0</th>\n",
       "      <td>281656475</td>\n",
       "      <td>pac-man premium</td>\n",
       "      <td>100788224</td>\n",
       "      <td>3.99</td>\n",
       "      <td>21292</td>\n",
       "      <td>26</td>\n",
       "      <td>4.0</td>\n",
       "      <td>4.5</td>\n",
       "      <td>6.3.5</td>\n",
       "      <td>4</td>\n",
       "      <td>Games</td>\n",
       "      <td>38</td>\n",
       "      <td>5</td>\n",
       "      <td>10</td>\n",
       "      <td>1</td>\n",
       "      <td>Paid</td>\n",
       "      <td>Games</td>\n",
       "      <td>1</td>\n",
       "      <td>6</td>\n",
       "      <td>SAVE 20%, now only $3.99 for a limited time!\\n...</td>\n",
       "    </tr>\n",
       "    <tr>\n",
       "      <th>1</th>\n",
       "      <td>281796108</td>\n",
       "      <td>evernote - stay organized</td>\n",
       "      <td>158578688</td>\n",
       "      <td>0.00</td>\n",
       "      <td>161065</td>\n",
       "      <td>26</td>\n",
       "      <td>4.0</td>\n",
       "      <td>3.5</td>\n",
       "      <td>8.2.2</td>\n",
       "      <td>4</td>\n",
       "      <td>Productivity</td>\n",
       "      <td>37</td>\n",
       "      <td>5</td>\n",
       "      <td>23</td>\n",
       "      <td>1</td>\n",
       "      <td>Free</td>\n",
       "      <td>Others</td>\n",
       "      <td>0</td>\n",
       "      <td>8</td>\n",
       "      <td>Let Evernote change the way you organize your ...</td>\n",
       "    </tr>\n",
       "    <tr>\n",
       "      <th>2</th>\n",
       "      <td>281940292</td>\n",
       "      <td>weatherbug - local weather, radar, maps, alerts</td>\n",
       "      <td>100524032</td>\n",
       "      <td>0.00</td>\n",
       "      <td>188583</td>\n",
       "      <td>2822</td>\n",
       "      <td>3.5</td>\n",
       "      <td>4.5</td>\n",
       "      <td>5.0.0</td>\n",
       "      <td>4</td>\n",
       "      <td>Weather</td>\n",
       "      <td>37</td>\n",
       "      <td>5</td>\n",
       "      <td>3</td>\n",
       "      <td>1</td>\n",
       "      <td>Free</td>\n",
       "      <td>Others</td>\n",
       "      <td>0</td>\n",
       "      <td>5</td>\n",
       "      <td>Download the most popular free weather app pow...</td>\n",
       "    </tr>\n",
       "    <tr>\n",
       "      <th>3</th>\n",
       "      <td>282614216</td>\n",
       "      <td>ebay: best app to buy, sell, save! online shop...</td>\n",
       "      <td>128512000</td>\n",
       "      <td>0.00</td>\n",
       "      <td>262241</td>\n",
       "      <td>649</td>\n",
       "      <td>4.0</td>\n",
       "      <td>4.5</td>\n",
       "      <td>5.10.0</td>\n",
       "      <td>12</td>\n",
       "      <td>Shopping</td>\n",
       "      <td>37</td>\n",
       "      <td>5</td>\n",
       "      <td>9</td>\n",
       "      <td>1</td>\n",
       "      <td>Free</td>\n",
       "      <td>Others</td>\n",
       "      <td>0</td>\n",
       "      <td>5</td>\n",
       "      <td>The eBay app is the best way to find anything ...</td>\n",
       "    </tr>\n",
       "    <tr>\n",
       "      <th>4</th>\n",
       "      <td>282935706</td>\n",
       "      <td>bible</td>\n",
       "      <td>92774400</td>\n",
       "      <td>0.00</td>\n",
       "      <td>985920</td>\n",
       "      <td>5320</td>\n",
       "      <td>4.5</td>\n",
       "      <td>5.0</td>\n",
       "      <td>7.5.1</td>\n",
       "      <td>4</td>\n",
       "      <td>Reference</td>\n",
       "      <td>37</td>\n",
       "      <td>5</td>\n",
       "      <td>45</td>\n",
       "      <td>1</td>\n",
       "      <td>Free</td>\n",
       "      <td>Others</td>\n",
       "      <td>0</td>\n",
       "      <td>7</td>\n",
       "      <td>On more than 250 million devices around the wo...</td>\n",
       "    </tr>\n",
       "  </tbody>\n",
       "</table>\n",
       "</div>"
      ],
      "text/plain": [
       "          id                                         track_name  size_bytes  \\\n",
       "0  281656475                                    pac-man premium   100788224   \n",
       "1  281796108                          evernote - stay organized   158578688   \n",
       "2  281940292    weatherbug - local weather, radar, maps, alerts   100524032   \n",
       "3  282614216  ebay: best app to buy, sell, save! online shop...   128512000   \n",
       "4  282935706                                              bible    92774400   \n",
       "\n",
       "   price  rating_count_tot  rating_count_ver  user_rating  user_rating_ver  \\\n",
       "0   3.99             21292                26          4.0              4.5   \n",
       "1   0.00            161065                26          4.0              3.5   \n",
       "2   0.00            188583              2822          3.5              4.5   \n",
       "3   0.00            262241               649          4.0              4.5   \n",
       "4   0.00            985920              5320          4.5              5.0   \n",
       "\n",
       "      ver  cont_rating   prime_genre  sup_devices.num  ipadSc_urls.num  \\\n",
       "0   6.3.5            4         Games               38                5   \n",
       "1   8.2.2            4  Productivity               37                5   \n",
       "2   5.0.0            4       Weather               37                5   \n",
       "3  5.10.0           12      Shopping               37                5   \n",
       "4   7.5.1            4     Reference               37                5   \n",
       "\n",
       "   lang.num  vpp_lic category broad_genre  isNotFree  major_version  \\\n",
       "0        10        1     Paid       Games          1              6   \n",
       "1        23        1     Free      Others          0              8   \n",
       "2         3        1     Free      Others          0              5   \n",
       "3         9        1     Free      Others          0              5   \n",
       "4        45        1     Free      Others          0              7   \n",
       "\n",
       "                                            app_desc  \n",
       "0  SAVE 20%, now only $3.99 for a limited time!\\n...  \n",
       "1  Let Evernote change the way you organize your ...  \n",
       "2  Download the most popular free weather app pow...  \n",
       "3  The eBay app is the best way to find anything ...  \n",
       "4  On more than 250 million devices around the wo...  "
      ]
     },
     "execution_count": 35,
     "metadata": {},
     "output_type": "execute_result"
    }
   ],
   "source": [
    "m.head()"
   ]
  },
  {
   "cell_type": "markdown",
   "metadata": {},
   "source": [
    "Con esto se obtienen datos adicionales: track name, tamano de la app en bytes y la descripcion."
   ]
  },
  {
   "cell_type": "code",
   "execution_count": 36,
   "metadata": {},
   "outputs": [
    {
     "data": {
      "application/vnd.plotly.v1+json": {
       "config": {
        "linkText": "Export to plot.ly",
        "plotlyServerURL": "https://plot.ly",
        "showLink": true
       },
       "data": [
        {
         "colorscale": "YlGnBu",
         "reversescale": false,
         "type": "heatmap",
         "uid": "2a2cc755-8ce7-4d65-9e22-cfc8413244fb",
         "x": [
          "id",
          "size_bytes",
          "price",
          "rating_count_tot",
          "rating_count_ver",
          "user_rating",
          "user_rating_ver",
          "cont_rating",
          "sup_devices.num",
          "ipadSc_urls.num",
          "lang.num",
          "vpp_lic",
          "isNotFree",
          "major_version"
         ],
         "y": [
          "id",
          "size_bytes",
          "price",
          "rating_count_tot",
          "rating_count_ver",
          "user_rating",
          "user_rating_ver",
          "cont_rating",
          "sup_devices.num",
          "ipadSc_urls.num",
          "lang.num",
          "vpp_lic",
          "isNotFree",
          "major_version"
         ],
         "z": [
          [
           1,
           0.07727476483321923,
           -0.07522274854314824,
           -0.2018688705408103,
           -0.07284398984219899,
           -0.1853573073757498,
           -0.11003079578752775,
           0.02381642527068522,
           0.03354741571135162,
           0.05187577892262373,
           -0.1290014660061962,
           0.01776002186287498,
           -0.15065735316940382,
           0.017531149160478415
          ],
          [
           0.07727476483321923,
           1,
           0.18239997516778672,
           0.004546469682123286,
           0.00631858984558815,
           0.06606473735501571,
           0.08575934894640239,
           0.14079780720723206,
           -0.11834117283494226,
           0.1528597228268426,
           0.004603219745090466,
           -0.15042165460568757,
           0.16208959762411707,
           -0.010229243706073714
          ],
          [
           -0.07522274854314824,
           0.18239997516778672,
           1,
           -0.03904018197673039,
           -0.018038558800550258,
           0.0466514117760817,
           0.02506785829359852,
           -0.029464965085580903,
           -0.11530244018900469,
           0.06614284127511175,
           -0.006763307484442387,
           -0.02992029104928297,
           0.33622728789574485,
           0.004827204995588518
          ],
          [
           -0.2018688705408103,
           0.004546469682123286,
           -0.03904018197673039,
           1,
           0.16366592875215408,
           0.08324612715485019,
           0.08870244543924778,
           0.009080218209532542,
           0.008892855247539662,
           0.015567362116217271,
           0.13759161874140283,
           -0.0009829025262530601,
           -0.10289155177034764,
           -0.001402980191522142
          ],
          [
           -0.07284398984219899,
           0.00631858984558815,
           -0.018038558800550258,
           0.16366592875215408,
           1,
           0.06877815876331976,
           0.07782464113590529,
           0.0015620366060189116,
           0.03797404238185847,
           0.024297499878352457,
           0.013247084679966003,
           0.006469388078575926,
           -0.03167968029263264,
           -0.0038746569424390593
          ],
          [
           -0.1853573073757498,
           0.06606473735501571,
           0.0466514117760817,
           0.08324612715485019,
           0.06877815876331976,
           1,
           0.7744138384427591,
           -0.09863558025076333,
           -0.042503674210375327,
           0.26596882943248695,
           0.17095406203839644,
           0.06985086886063596,
           0.11270337628595893,
           0.016466704407869497
          ],
          [
           -0.11003079578752775,
           0.08575934894640239,
           0.02506785829359852,
           0.08870244543924778,
           0.07782464113590529,
           0.7744138384427591,
           1,
           -0.12020819349467987,
           -0.01871165963321599,
           0.2757887958222644,
           0.1754436089146102,
           0.050180711220313624,
           0.1215142850983284,
           0.010886003723706749
          ],
          [
           0.02381642527068522,
           0.14079780720723206,
           -0.029464965085580903,
           0.009080218209532542,
           0.0015620366060189116,
           -0.09863558025076333,
           -0.12020819349467987,
           1,
           0.019977235061268847,
           -0.10708769850342546,
           -0.0692029217654918,
           -0.04509164776350723,
           -0.07046891567058312,
           -0.022566961441085005
          ],
          [
           0.03354741571135162,
           -0.11834117283494226,
           -0.11530244018900469,
           0.008892855247539662,
           0.03797404238185847,
           -0.042503674210375327,
           -0.01871165963321599,
           0.019977235061268847,
           1,
           -0.037750214516902414,
           -0.04160893265045825,
           -0.03713346099893545,
           -0.020025609090065115,
           0.020618941564048702
          ],
          [
           0.05187577892262373,
           0.1528597228268426,
           0.06614284127511175,
           0.015567362116217271,
           0.024297499878352457,
           0.26596882943248695,
           0.2757887958222644,
           -0.10708769850342546,
           -0.037750214516902414,
           1,
           0.0881742903470789,
           0.07198083915814753,
           0.06987228543123533,
           0.021549158999536022
          ],
          [
           -0.1290014660061962,
           0.004603219745090466,
           -0.006763307484442387,
           0.13759161874140283,
           0.013247084679966003,
           0.17095406203839644,
           0.1754436089146102,
           -0.0692029217654918,
           -0.04160893265045825,
           0.0881742903470789,
           1,
           0.032503390428323016,
           -0.042796248988231436,
           -0.014749240087691587
          ],
          [
           0.01776002186287498,
           -0.15042165460568757,
           -0.02992029104928297,
           -0.0009829025262530601,
           0.006469388078575926,
           0.06985086886063596,
           0.050180711220313624,
           -0.04509164776350723,
           -0.03713346099893545,
           0.07198083915814753,
           0.032503390428323016,
           1,
           -0.02416598873828773,
           0.0035820757212236356
          ],
          [
           -0.15065735316940382,
           0.16208959762411707,
           0.33622728789574485,
           -0.10289155177034764,
           -0.03167968029263264,
           0.11270337628595893,
           0.1215142850983284,
           -0.07046891567058312,
           -0.020025609090065115,
           0.06987228543123533,
           -0.042796248988231436,
           -0.02416598873828773,
           1,
           0.03493934452464797
          ],
          [
           0.017531149160478415,
           -0.010229243706073714,
           0.004827204995588518,
           -0.001402980191522142,
           -0.0038746569424390593,
           0.016466704407869497,
           0.010886003723706749,
           -0.022566961441085005,
           0.020618941564048702,
           0.021549158999536022,
           -0.014749240087691587,
           0.0035820757212236356,
           0.03493934452464797,
           1
          ]
         ],
         "zauto": true,
         "zmax": 1,
         "zmin": -0.2018688705408103
        }
       ],
       "layout": {
        "height": 800,
        "margin": {
         "l": 100
        },
        "title": "Coeficiente de correlación de Pearson de columnas con valores de tipo flotante",
        "width": 800,
        "xaxis": {
         "autorange": true,
         "range": [
          -0.5,
          13.5
         ],
         "ticks": "",
         "type": "category"
        },
        "yaxis": {
         "autorange": true,
         "range": [
          -0.5,
          13.5
         ],
         "ticks": "",
         "type": "category"
        }
       }
      },
      "image/png": "[encoded data removed]",
      "text/html": [
       "<div id=\"acac8f9b-0aa7-448b-8c35-b16a9bebc152\" style=\"height: 800px; width: 800px;\" class=\"plotly-graph-div\"></div><script type=\"text/javascript\">require([\"plotly\"], function(Plotly) { window.PLOTLYENV=window.PLOTLYENV || {};window.PLOTLYENV.BASE_URL=\"https://plot.ly\";Plotly.newPlot(\"acac8f9b-0aa7-448b-8c35-b16a9bebc152\", [{\"y\": [\"id\", \"size_bytes\", \"price\", \"rating_count_tot\", \"rating_count_ver\", \"user_rating\", \"user_rating_ver\", \"cont_rating\", \"sup_devices.num\", \"ipadSc_urls.num\", \"lang.num\", \"vpp_lic\", \"isNotFree\", \"major_version\"], \"z\": [[1.0, 0.07727476483321923, -0.07522274854314824, -0.2018688705408103, -0.07284398984219899, -0.1853573073757498, -0.11003079578752775, 0.02381642527068522, 0.03354741571135162, 0.05187577892262373, -0.1290014660061962, 0.01776002186287498, -0.15065735316940382, 0.017531149160478415], [0.07727476483321923, 1.0, 0.18239997516778672, 0.004546469682123286, 0.00631858984558815, 0.06606473735501571, 0.08575934894640239, 0.14079780720723206, -0.11834117283494226, 0.1528597228268426, 0.004603219745090466, -0.15042165460568757, 0.16208959762411707, -0.010229243706073714], [-0.07522274854314824, 0.18239997516778672, 1.0, -0.03904018197673039, -0.018038558800550258, 0.0466514117760817, 0.02506785829359852, -0.029464965085580903, -0.11530244018900469, 0.06614284127511175, -0.006763307484442387, -0.02992029104928297, 0.33622728789574485, 0.004827204995588518], [-0.2018688705408103, 0.004546469682123286, -0.03904018197673039, 1.0, 0.16366592875215408, 0.08324612715485019, 0.08870244543924778, 0.009080218209532542, 0.008892855247539662, 0.015567362116217271, 0.13759161874140283, -0.0009829025262530601, -0.10289155177034764, -0.001402980191522142], [-0.07284398984219899, 0.00631858984558815, -0.018038558800550258, 0.16366592875215408, 1.0, 0.06877815876331976, 0.07782464113590529, 0.0015620366060189116, 0.03797404238185847, 0.024297499878352457, 0.013247084679966003, 0.006469388078575926, -0.03167968029263264, -0.0038746569424390593], [-0.1853573073757498, 0.06606473735501571, 0.0466514117760817, 0.08324612715485019, 0.06877815876331976, 1.0, 0.7744138384427591, -0.09863558025076333, -0.042503674210375327, 0.26596882943248695, 0.17095406203839644, 0.06985086886063596, 0.11270337628595893, 0.016466704407869497], [-0.11003079578752775, 0.08575934894640239, 0.02506785829359852, 0.08870244543924778, 0.07782464113590529, 0.7744138384427591, 1.0, -0.12020819349467987, -0.01871165963321599, 0.2757887958222644, 0.1754436089146102, 0.050180711220313624, 0.1215142850983284, 0.010886003723706749], [0.02381642527068522, 0.14079780720723206, -0.029464965085580903, 0.009080218209532542, 0.0015620366060189116, -0.09863558025076333, -0.12020819349467987, 1.0, 0.019977235061268847, -0.10708769850342546, -0.0692029217654918, -0.04509164776350723, -0.07046891567058312, -0.022566961441085005], [0.03354741571135162, -0.11834117283494226, -0.11530244018900469, 0.008892855247539662, 0.03797404238185847, -0.042503674210375327, -0.01871165963321599, 0.019977235061268847, 1.0, -0.037750214516902414, -0.04160893265045825, -0.03713346099893545, -0.020025609090065115, 0.020618941564048702], [0.05187577892262373, 0.1528597228268426, 0.06614284127511175, 0.015567362116217271, 0.024297499878352457, 0.26596882943248695, 0.2757887958222644, -0.10708769850342546, -0.037750214516902414, 1.0, 0.0881742903470789, 0.07198083915814753, 0.06987228543123533, 0.021549158999536022], [-0.1290014660061962, 0.004603219745090466, -0.006763307484442387, 0.13759161874140283, 0.013247084679966003, 0.17095406203839644, 0.1754436089146102, -0.0692029217654918, -0.04160893265045825, 0.0881742903470789, 1.0, 0.032503390428323016, -0.042796248988231436, -0.014749240087691587], [0.01776002186287498, -0.15042165460568757, -0.02992029104928297, -0.0009829025262530601, 0.006469388078575926, 0.06985086886063596, 0.050180711220313624, -0.04509164776350723, -0.03713346099893545, 0.07198083915814753, 0.032503390428323016, 1.0, -0.02416598873828773, 0.0035820757212236356], [-0.15065735316940382, 0.16208959762411707, 0.33622728789574485, -0.10289155177034764, -0.03167968029263264, 0.11270337628595893, 0.1215142850983284, -0.07046891567058312, -0.020025609090065115, 0.06987228543123533, -0.042796248988231436, -0.02416598873828773, 1.0, 0.03493934452464797], [0.017531149160478415, -0.010229243706073714, 0.004827204995588518, -0.001402980191522142, -0.0038746569424390593, 0.016466704407869497, 0.010886003723706749, -0.022566961441085005, 0.020618941564048702, 0.021549158999536022, -0.014749240087691587, 0.0035820757212236356, 0.03493934452464797, 1.0]], \"reversescale\": false, \"type\": \"heatmap\", \"colorscale\": \"YlGnBu\", \"x\": [\"id\", \"size_bytes\", \"price\", \"rating_count_tot\", \"rating_count_ver\", \"user_rating\", \"user_rating_ver\", \"cont_rating\", \"sup_devices.num\", \"ipadSc_urls.num\", \"lang.num\", \"vpp_lic\", \"isNotFree\", \"major_version\"], \"uid\": \"2a2cc755-8ce7-4d65-9e22-cfc8413244fb\"}], {\"title\": \"Coeficiente de correlaci\\u00f3n de Pearson de columnas con valores de tipo flotante\", \"width\": 800, \"margin\": {\"l\": 100}, \"yaxis\": {\"ticks\": \"\"}, \"xaxis\": {\"ticks\": \"\"}, \"height\": 800}, {\"showLink\": true, \"linkText\": \"Export to plot.ly\", \"plotlyServerURL\": \"https://plot.ly\"})});</script>"
      ],
      "text/vnd.plotly.v1+html": [
       "<div id=\"acac8f9b-0aa7-448b-8c35-b16a9bebc152\" style=\"height: 800px; width: 800px;\" class=\"plotly-graph-div\"></div><script type=\"text/javascript\">require([\"plotly\"], function(Plotly) { window.PLOTLYENV=window.PLOTLYENV || {};window.PLOTLYENV.BASE_URL=\"https://plot.ly\";Plotly.newPlot(\"acac8f9b-0aa7-448b-8c35-b16a9bebc152\", [{\"y\": [\"id\", \"size_bytes\", \"price\", \"rating_count_tot\", \"rating_count_ver\", \"user_rating\", \"user_rating_ver\", \"cont_rating\", \"sup_devices.num\", \"ipadSc_urls.num\", \"lang.num\", \"vpp_lic\", \"isNotFree\", \"major_version\"], \"z\": [[1.0, 0.07727476483321923, -0.07522274854314824, -0.2018688705408103, -0.07284398984219899, -0.1853573073757498, -0.11003079578752775, 0.02381642527068522, 0.03354741571135162, 0.05187577892262373, -0.1290014660061962, 0.01776002186287498, -0.15065735316940382, 0.017531149160478415], [0.07727476483321923, 1.0, 0.18239997516778672, 0.004546469682123286, 0.00631858984558815, 0.06606473735501571, 0.08575934894640239, 0.14079780720723206, -0.11834117283494226, 0.1528597228268426, 0.004603219745090466, -0.15042165460568757, 0.16208959762411707, -0.010229243706073714], [-0.07522274854314824, 0.18239997516778672, 1.0, -0.03904018197673039, -0.018038558800550258, 0.0466514117760817, 0.02506785829359852, -0.029464965085580903, -0.11530244018900469, 0.06614284127511175, -0.006763307484442387, -0.02992029104928297, 0.33622728789574485, 0.004827204995588518], [-0.2018688705408103, 0.004546469682123286, -0.03904018197673039, 1.0, 0.16366592875215408, 0.08324612715485019, 0.08870244543924778, 0.009080218209532542, 0.008892855247539662, 0.015567362116217271, 0.13759161874140283, -0.0009829025262530601, -0.10289155177034764, -0.001402980191522142], [-0.07284398984219899, 0.00631858984558815, -0.018038558800550258, 0.16366592875215408, 1.0, 0.06877815876331976, 0.07782464113590529, 0.0015620366060189116, 0.03797404238185847, 0.024297499878352457, 0.013247084679966003, 0.006469388078575926, -0.03167968029263264, -0.0038746569424390593], [-0.1853573073757498, 0.06606473735501571, 0.0466514117760817, 0.08324612715485019, 0.06877815876331976, 1.0, 0.7744138384427591, -0.09863558025076333, -0.042503674210375327, 0.26596882943248695, 0.17095406203839644, 0.06985086886063596, 0.11270337628595893, 0.016466704407869497], [-0.11003079578752775, 0.08575934894640239, 0.02506785829359852, 0.08870244543924778, 0.07782464113590529, 0.7744138384427591, 1.0, -0.12020819349467987, -0.01871165963321599, 0.2757887958222644, 0.1754436089146102, 0.050180711220313624, 0.1215142850983284, 0.010886003723706749], [0.02381642527068522, 0.14079780720723206, -0.029464965085580903, 0.009080218209532542, 0.0015620366060189116, -0.09863558025076333, -0.12020819349467987, 1.0, 0.019977235061268847, -0.10708769850342546, -0.0692029217654918, -0.04509164776350723, -0.07046891567058312, -0.022566961441085005], [0.03354741571135162, -0.11834117283494226, -0.11530244018900469, 0.008892855247539662, 0.03797404238185847, -0.042503674210375327, -0.01871165963321599, 0.019977235061268847, 1.0, -0.037750214516902414, -0.04160893265045825, -0.03713346099893545, -0.020025609090065115, 0.020618941564048702], [0.05187577892262373, 0.1528597228268426, 0.06614284127511175, 0.015567362116217271, 0.024297499878352457, 0.26596882943248695, 0.2757887958222644, -0.10708769850342546, -0.037750214516902414, 1.0, 0.0881742903470789, 0.07198083915814753, 0.06987228543123533, 0.021549158999536022], [-0.1290014660061962, 0.004603219745090466, -0.006763307484442387, 0.13759161874140283, 0.013247084679966003, 0.17095406203839644, 0.1754436089146102, -0.0692029217654918, -0.04160893265045825, 0.0881742903470789, 1.0, 0.032503390428323016, -0.042796248988231436, -0.014749240087691587], [0.01776002186287498, -0.15042165460568757, -0.02992029104928297, -0.0009829025262530601, 0.006469388078575926, 0.06985086886063596, 0.050180711220313624, -0.04509164776350723, -0.03713346099893545, 0.07198083915814753, 0.032503390428323016, 1.0, -0.02416598873828773, 0.0035820757212236356], [-0.15065735316940382, 0.16208959762411707, 0.33622728789574485, -0.10289155177034764, -0.03167968029263264, 0.11270337628595893, 0.1215142850983284, -0.07046891567058312, -0.020025609090065115, 0.06987228543123533, -0.042796248988231436, -0.02416598873828773, 1.0, 0.03493934452464797], [0.017531149160478415, -0.010229243706073714, 0.004827204995588518, -0.001402980191522142, -0.0038746569424390593, 0.016466704407869497, 0.010886003723706749, -0.022566961441085005, 0.020618941564048702, 0.021549158999536022, -0.014749240087691587, 0.0035820757212236356, 0.03493934452464797, 1.0]], \"reversescale\": false, \"type\": \"heatmap\", \"colorscale\": \"YlGnBu\", \"x\": [\"id\", \"size_bytes\", \"price\", \"rating_count_tot\", \"rating_count_ver\", \"user_rating\", \"user_rating_ver\", \"cont_rating\", \"sup_devices.num\", \"ipadSc_urls.num\", \"lang.num\", \"vpp_lic\", \"isNotFree\", \"major_version\"], \"uid\": \"2a2cc755-8ce7-4d65-9e22-cfc8413244fb\"}], {\"title\": \"Coeficiente de correlaci\\u00f3n de Pearson de columnas con valores de tipo flotante\", \"width\": 800, \"margin\": {\"l\": 100}, \"yaxis\": {\"ticks\": \"\"}, \"xaxis\": {\"ticks\": \"\"}, \"height\": 800}, {\"showLink\": true, \"linkText\": \"Export to plot.ly\", \"plotlyServerURL\": \"https://plot.ly\"})});</script>"
      ]
     },
     "metadata": {},
     "output_type": "display_data"
    }
   ],
   "source": [
    "data = [\n",
    "    go.Heatmap(\n",
    "        z = m.corr().values,\n",
    "        x = m.corr().columns.values,\n",
    "        y = m.corr().columns.values,\n",
    "        colorscale='YlGnBu',\n",
    "        reversescale=False,\n",
    "    )\n",
    "]\n",
    "\n",
    "layout = go.Layout(\n",
    "    title='Coeficiente de correlación de Pearson de columnas con valores de tipo flotante',\n",
    "    xaxis = dict(ticks=''),\n",
    "    yaxis = dict(ticks='' ),\n",
    "    width = 800, height = 800,\n",
    "    margin = dict(\n",
    "        l = 100\n",
    "    )\n",
    ")\n",
    "\n",
    "fig = go.Figure(data=data, layout=layout)\n",
    "py.iplot(fig, filename='labelled-heatmap')\n"
   ]
  },
  {
   "cell_type": "markdown",
   "metadata": {
    "slideshow": {
     "slide_type": "-"
    }
   },
   "source": [
    "El coeficiente de correlación de Pearson es la estadística de prueba que mide la relación estadística, o asociación, entre dos variables continuas. Es conocido como el mejor método para medir la asociación entre variables de interés porque se basa en el método de covarianza. Da información sobre la magnitud de la asociación, o correlación, así como la dirección de la relación"
   ]
  },
  {
   "cell_type": "markdown",
   "metadata": {},
   "source": [
    "### Análisis de la descripción de las apps\n",
    "Se agregan tres columnas con las tres palabras mas frecuentes en la descripción de las apps, omitiendo stopwords. "
   ]
  },
  {
   "cell_type": "code",
   "execution_count": 37,
   "metadata": {},
   "outputs": [],
   "source": [
    "desc = m['app_desc'][0].split(' ')"
   ]
  },
  {
   "cell_type": "code",
   "execution_count": 38,
   "metadata": {},
   "outputs": [
    {
     "name": "stderr",
     "output_type": "stream",
     "text": [
      "[nltk_data] Downloading package punkt to /home/rozanecm/nltk_data...\n",
      "[nltk_data]   Package punkt is already up-to-date!\n",
      "[nltk_data] Downloading package stopwords to\n",
      "[nltk_data]     /home/rozanecm/nltk_data...\n",
      "[nltk_data]   Package stopwords is already up-to-date!\n"
     ]
    },
    {
     "data": {
      "text/plain": [
       "True"
      ]
     },
     "execution_count": 38,
     "metadata": {},
     "output_type": "execute_result"
    }
   ],
   "source": [
    "import nltk\n",
    "from nltk.corpus import stopwords\n",
    "nltk.download('punkt')\n",
    "nltk.download('stopwords')"
   ]
  },
  {
   "cell_type": "code",
   "execution_count": 39,
   "metadata": {},
   "outputs": [
    {
     "name": "stdout",
     "output_type": "stream",
     "text": [
      "CPU times: user 4min 52s, sys: 17.7 s, total: 5min 10s\n",
      "Wall time: 5min 10s\n"
     ]
    }
   ],
   "source": [
    "%%time\n",
    "for i in range(m.shape[0]):\n",
    "    temp_desc = m['app_desc'][i]\n",
    "    temp_word_list = nltk.word_tokenize(temp_desc)\n",
    "    temp_word_list = [word.lower() for word in temp_word_list if word not in stopwords.words('english')]\n",
    "    for char in \" {}()#&[]^`´-_·@|¿?¡!'+*\\\"?.!/;:<>’•“”–»%■,\":\n",
    "        for ele in temp_word_list:\n",
    "            if char in ele:\n",
    "                temp_word_list.remove(ele)\n",
    "    fdist = nltk.FreqDist(temp_word_list)\n",
    "    temp_srs = pd.Series(fdist).sort_values(ascending=False)\n",
    "    try:\n",
    "        m.loc[i, 'most_freq_word_1'] = temp_srs.index[0]\n",
    "        m.loc[i, 'most_freq_word_2'] = temp_srs.index[1]\n",
    "        m.loc[i, 'most_freq_word_3'] = temp_srs.index[2]\n",
    "    except:\n",
    "        m.loc[i, 'most_freq_word_1'] = temp_srs.index[0]"
   ]
  },
  {
   "cell_type": "code",
   "execution_count": 40,
   "metadata": {},
   "outputs": [
    {
     "data": {
      "text/html": [
       "<div>\n",
       "<style scoped>\n",
       "    .dataframe tbody tr th:only-of-type {\n",
       "        vertical-align: middle;\n",
       "    }\n",
       "\n",
       "    .dataframe tbody tr th {\n",
       "        vertical-align: top;\n",
       "    }\n",
       "\n",
       "    .dataframe thead th {\n",
       "        text-align: right;\n",
       "    }\n",
       "</style>\n",
       "<table border=\"1\" class=\"dataframe\">\n",
       "  <thead>\n",
       "    <tr style=\"text-align: right;\">\n",
       "      <th></th>\n",
       "      <th>id</th>\n",
       "      <th>track_name</th>\n",
       "      <th>size_bytes</th>\n",
       "      <th>price</th>\n",
       "      <th>rating_count_tot</th>\n",
       "      <th>rating_count_ver</th>\n",
       "      <th>user_rating</th>\n",
       "      <th>user_rating_ver</th>\n",
       "      <th>ver</th>\n",
       "      <th>cont_rating</th>\n",
       "      <th>...</th>\n",
       "      <th>lang.num</th>\n",
       "      <th>vpp_lic</th>\n",
       "      <th>category</th>\n",
       "      <th>broad_genre</th>\n",
       "      <th>isNotFree</th>\n",
       "      <th>major_version</th>\n",
       "      <th>app_desc</th>\n",
       "      <th>most_freq_word_1</th>\n",
       "      <th>most_freq_word_2</th>\n",
       "      <th>most_freq_word_3</th>\n",
       "    </tr>\n",
       "  </thead>\n",
       "  <tbody>\n",
       "    <tr>\n",
       "      <th>7184</th>\n",
       "      <td>1187617475</td>\n",
       "      <td>kubik</td>\n",
       "      <td>126644224</td>\n",
       "      <td>0.00</td>\n",
       "      <td>142</td>\n",
       "      <td>75</td>\n",
       "      <td>4.5</td>\n",
       "      <td>4.5</td>\n",
       "      <td>1.3</td>\n",
       "      <td>4</td>\n",
       "      <td>...</td>\n",
       "      <td>1</td>\n",
       "      <td>1</td>\n",
       "      <td>Free</td>\n",
       "      <td>Games</td>\n",
       "      <td>0</td>\n",
       "      <td>1</td>\n",
       "      <td>Place the falling blocks correctly in order to...</td>\n",
       "      <td>blocks</td>\n",
       "      <td>falling</td>\n",
       "      <td>layers</td>\n",
       "    </tr>\n",
       "    <tr>\n",
       "      <th>7185</th>\n",
       "      <td>1187682390</td>\n",
       "      <td>vr roller-coaster</td>\n",
       "      <td>120760320</td>\n",
       "      <td>0.00</td>\n",
       "      <td>30</td>\n",
       "      <td>30</td>\n",
       "      <td>4.5</td>\n",
       "      <td>4.5</td>\n",
       "      <td>0.9</td>\n",
       "      <td>4</td>\n",
       "      <td>...</td>\n",
       "      <td>1</td>\n",
       "      <td>1</td>\n",
       "      <td>Free</td>\n",
       "      <td>Games</td>\n",
       "      <td>0</td>\n",
       "      <td>0</td>\n",
       "      <td>A thrilling virtual reality roller coaster exp...</td>\n",
       "      <td>vox</td>\n",
       "      <td>virtual</td>\n",
       "      <td>3d</td>\n",
       "    </tr>\n",
       "    <tr>\n",
       "      <th>7186</th>\n",
       "      <td>1187779532</td>\n",
       "      <td>bret michaels emojis + lyric keyboard</td>\n",
       "      <td>111322112</td>\n",
       "      <td>1.99</td>\n",
       "      <td>15</td>\n",
       "      <td>0</td>\n",
       "      <td>4.5</td>\n",
       "      <td>0.0</td>\n",
       "      <td>1.0.2</td>\n",
       "      <td>9</td>\n",
       "      <td>...</td>\n",
       "      <td>1</td>\n",
       "      <td>1</td>\n",
       "      <td>Paid</td>\n",
       "      <td>Others</td>\n",
       "      <td>1</td>\n",
       "      <td>1</td>\n",
       "      <td>Rock star Bret Michaels, winner of Celebrity A...</td>\n",
       "      <td>bret</td>\n",
       "      <td>rock</td>\n",
       "      <td>lyrics</td>\n",
       "    </tr>\n",
       "    <tr>\n",
       "      <th>7187</th>\n",
       "      <td>1187838770</td>\n",
       "      <td>vr roller coaster world - virtual reality</td>\n",
       "      <td>97235968</td>\n",
       "      <td>0.00</td>\n",
       "      <td>85</td>\n",
       "      <td>32</td>\n",
       "      <td>4.5</td>\n",
       "      <td>4.5</td>\n",
       "      <td>1.0.15</td>\n",
       "      <td>12</td>\n",
       "      <td>...</td>\n",
       "      <td>2</td>\n",
       "      <td>1</td>\n",
       "      <td>Free</td>\n",
       "      <td>Games</td>\n",
       "      <td>0</td>\n",
       "      <td>1</td>\n",
       "      <td>VR Roller Coaster World is an app for Google C...</td>\n",
       "      <td>vr</td>\n",
       "      <td>world</td>\n",
       "      <td>coaster</td>\n",
       "    </tr>\n",
       "    <tr>\n",
       "      <th>7188</th>\n",
       "      <td>1188375727</td>\n",
       "      <td>escape the sweet shop series</td>\n",
       "      <td>90898432</td>\n",
       "      <td>0.00</td>\n",
       "      <td>3</td>\n",
       "      <td>3</td>\n",
       "      <td>5.0</td>\n",
       "      <td>5.0</td>\n",
       "      <td>1.0</td>\n",
       "      <td>4</td>\n",
       "      <td>...</td>\n",
       "      <td>2</td>\n",
       "      <td>1</td>\n",
       "      <td>Free</td>\n",
       "      <td>Games</td>\n",
       "      <td>0</td>\n",
       "      <td>1</td>\n",
       "      <td>5 previous escape games plus 1 new game in one...</td>\n",
       "      <td>game</td>\n",
       "      <td>escape</td>\n",
       "      <td>shop</td>\n",
       "    </tr>\n",
       "  </tbody>\n",
       "</table>\n",
       "<p>5 rows × 23 columns</p>\n",
       "</div>"
      ],
      "text/plain": [
       "              id                                 track_name  size_bytes  \\\n",
       "7184  1187617475                                      kubik   126644224   \n",
       "7185  1187682390                          vr roller-coaster   120760320   \n",
       "7186  1187779532      bret michaels emojis + lyric keyboard   111322112   \n",
       "7187  1187838770  vr roller coaster world - virtual reality    97235968   \n",
       "7188  1188375727               escape the sweet shop series    90898432   \n",
       "\n",
       "      price  rating_count_tot  rating_count_ver  user_rating  user_rating_ver  \\\n",
       "7184   0.00               142                75          4.5              4.5   \n",
       "7185   0.00                30                30          4.5              4.5   \n",
       "7186   1.99                15                 0          4.5              0.0   \n",
       "7187   0.00                85                32          4.5              4.5   \n",
       "7188   0.00                 3                 3          5.0              5.0   \n",
       "\n",
       "         ver  cont_rating       ...        lang.num  vpp_lic  category  \\\n",
       "7184     1.3            4       ...               1        1      Free   \n",
       "7185     0.9            4       ...               1        1      Free   \n",
       "7186   1.0.2            9       ...               1        1      Paid   \n",
       "7187  1.0.15           12       ...               2        1      Free   \n",
       "7188     1.0            4       ...               2        1      Free   \n",
       "\n",
       "      broad_genre  isNotFree major_version  \\\n",
       "7184        Games          0             1   \n",
       "7185        Games          0             0   \n",
       "7186       Others          1             1   \n",
       "7187        Games          0             1   \n",
       "7188        Games          0             1   \n",
       "\n",
       "                                               app_desc  most_freq_word_1  \\\n",
       "7184  Place the falling blocks correctly in order to...            blocks   \n",
       "7185  A thrilling virtual reality roller coaster exp...               vox   \n",
       "7186  Rock star Bret Michaels, winner of Celebrity A...              bret   \n",
       "7187  VR Roller Coaster World is an app for Google C...                vr   \n",
       "7188  5 previous escape games plus 1 new game in one...              game   \n",
       "\n",
       "      most_freq_word_2 most_freq_word_3  \n",
       "7184           falling           layers  \n",
       "7185           virtual               3d  \n",
       "7186              rock           lyrics  \n",
       "7187             world          coaster  \n",
       "7188            escape             shop  \n",
       "\n",
       "[5 rows x 23 columns]"
      ]
     },
     "execution_count": 40,
     "metadata": {},
     "output_type": "execute_result"
    }
   ],
   "source": [
    "m.tail()"
   ]
  },
  {
   "cell_type": "code",
   "execution_count": 41,
   "metadata": {},
   "outputs": [
    {
     "data": {
      "text/plain": [
       "Text(0.5, 1.0, '3er palabra más frecuente de las apps con rating mayor a 4')"
      ]
     },
     "execution_count": 41,
     "metadata": {},
     "output_type": "execute_result"
    },
    {
     "data": {
      "image/png": "[encoded data removed]",
      "text/plain": [
       "<Figure size 1152x720 with 1 Axes>"
      ]
     },
     "metadata": {
      "needs_background": "light"
     },
     "output_type": "display_data"
    }
   ],
   "source": [
    "m.loc[m['user_rating'] > 4, 'most_freq_word_3'].value_counts().head(20).plot(kind='barh',figsize=(16,10)).set_title('3er palabra más frecuente de las apps con rating mayor a 4')"
   ]
  },
  {
   "cell_type": "markdown",
   "metadata": {},
   "source": [
    "## Preparación de datos"
   ]
  },
  {
   "cell_type": "code",
   "execution_count": 42,
   "metadata": {},
   "outputs": [],
   "source": [
    "from sklearn.metrics import confusion_matrix\n",
    "from sklearn.preprocessing import OneHotEncoder\n",
    "from sklearn.model_selection import train_test_split"
   ]
  },
  {
   "cell_type": "markdown",
   "metadata": {},
   "source": [
    "Vamos a definir una columna que clasifique como **aplicaciones exitosas aquellas con user raiting mayor o igual a 4**."
   ]
  },
  {
   "cell_type": "code",
   "execution_count": 43,
   "metadata": {
    "scrolled": false
   },
   "outputs": [
    {
     "data": {
      "text/html": [
       "<div>\n",
       "<style scoped>\n",
       "    .dataframe tbody tr th:only-of-type {\n",
       "        vertical-align: middle;\n",
       "    }\n",
       "\n",
       "    .dataframe tbody tr th {\n",
       "        vertical-align: top;\n",
       "    }\n",
       "\n",
       "    .dataframe thead th {\n",
       "        text-align: right;\n",
       "    }\n",
       "</style>\n",
       "<table border=\"1\" class=\"dataframe\">\n",
       "  <thead>\n",
       "    <tr style=\"text-align: right;\">\n",
       "      <th></th>\n",
       "      <th>id</th>\n",
       "      <th>track_name</th>\n",
       "      <th>size_bytes</th>\n",
       "      <th>price</th>\n",
       "      <th>rating_count_tot</th>\n",
       "      <th>rating_count_ver</th>\n",
       "      <th>user_rating</th>\n",
       "      <th>user_rating_ver</th>\n",
       "      <th>ver</th>\n",
       "      <th>cont_rating</th>\n",
       "      <th>...</th>\n",
       "      <th>vpp_lic</th>\n",
       "      <th>category</th>\n",
       "      <th>broad_genre</th>\n",
       "      <th>isNotFree</th>\n",
       "      <th>major_version</th>\n",
       "      <th>app_desc</th>\n",
       "      <th>most_freq_word_1</th>\n",
       "      <th>most_freq_word_2</th>\n",
       "      <th>most_freq_word_3</th>\n",
       "      <th>succesful</th>\n",
       "    </tr>\n",
       "  </thead>\n",
       "  <tbody>\n",
       "    <tr>\n",
       "      <th>7179</th>\n",
       "      <td>1186126548</td>\n",
       "      <td>escape game: illumination</td>\n",
       "      <td>52342784</td>\n",
       "      <td>0.00</td>\n",
       "      <td>23</td>\n",
       "      <td>23</td>\n",
       "      <td>4.5</td>\n",
       "      <td>4.5</td>\n",
       "      <td>1.0</td>\n",
       "      <td>4</td>\n",
       "      <td>...</td>\n",
       "      <td>1</td>\n",
       "      <td>Free</td>\n",
       "      <td>Games</td>\n",
       "      <td>0</td>\n",
       "      <td>1</td>\n",
       "      <td>Escape from here! \\n\\nTap on the objects in th...</td>\n",
       "      <td>items</td>\n",
       "      <td>look</td>\n",
       "      <td>closer</td>\n",
       "      <td>1.0</td>\n",
       "    </tr>\n",
       "    <tr>\n",
       "      <th>7180</th>\n",
       "      <td>1186384912</td>\n",
       "      <td>demolition derby virtual reality (vr) racing</td>\n",
       "      <td>168774656</td>\n",
       "      <td>0.00</td>\n",
       "      <td>18</td>\n",
       "      <td>18</td>\n",
       "      <td>4.0</td>\n",
       "      <td>4.0</td>\n",
       "      <td>1.0.0</td>\n",
       "      <td>12</td>\n",
       "      <td>...</td>\n",
       "      <td>1</td>\n",
       "      <td>Free</td>\n",
       "      <td>Games</td>\n",
       "      <td>0</td>\n",
       "      <td>1</td>\n",
       "      <td>Multiplayer Demolition Derby goes Virtual Real...</td>\n",
       "      <td>vr</td>\n",
       "      <td>racing</td>\n",
       "      <td>car</td>\n",
       "      <td>1.0</td>\n",
       "    </tr>\n",
       "    <tr>\n",
       "      <th>7181</th>\n",
       "      <td>1187128255</td>\n",
       "      <td>飞刀传奇-动作武侠热血江湖即时pk传奇（登录爆金装）</td>\n",
       "      <td>537462784</td>\n",
       "      <td>0.99</td>\n",
       "      <td>0</td>\n",
       "      <td>0</td>\n",
       "      <td>0.0</td>\n",
       "      <td>0.0</td>\n",
       "      <td>2.1.0</td>\n",
       "      <td>9</td>\n",
       "      <td>...</td>\n",
       "      <td>1</td>\n",
       "      <td>Paid</td>\n",
       "      <td>Games</td>\n",
       "      <td>1</td>\n",
       "      <td>2</td>\n",
       "      <td>《飞刀传奇》是新一代热血武侠ARPG帮派战斗手游，主打大规模武侠帮派PK的核心玩法，开放【武...</td>\n",
       "      <td>情缘</td>\n",
       "      <td>、</td>\n",
       "      <td>情</td>\n",
       "      <td>0.0</td>\n",
       "    </tr>\n",
       "    <tr>\n",
       "      <th>7182</th>\n",
       "      <td>1187279979</td>\n",
       "      <td>add-ons studio for minecraft</td>\n",
       "      <td>22999040</td>\n",
       "      <td>2.99</td>\n",
       "      <td>97</td>\n",
       "      <td>97</td>\n",
       "      <td>3.0</td>\n",
       "      <td>3.0</td>\n",
       "      <td>1.0</td>\n",
       "      <td>4</td>\n",
       "      <td>...</td>\n",
       "      <td>1</td>\n",
       "      <td>Paid</td>\n",
       "      <td>Games</td>\n",
       "      <td>1</td>\n",
       "      <td>1</td>\n",
       "      <td>The makers of the official Minecraft Skin Stud...</td>\n",
       "      <td>minecraft</td>\n",
       "      <td>horse</td>\n",
       "      <td>rabbit</td>\n",
       "      <td>0.0</td>\n",
       "    </tr>\n",
       "    <tr>\n",
       "      <th>7183</th>\n",
       "      <td>1187282363</td>\n",
       "      <td>plead the fifth - the game</td>\n",
       "      <td>27853824</td>\n",
       "      <td>2.99</td>\n",
       "      <td>11</td>\n",
       "      <td>0</td>\n",
       "      <td>4.0</td>\n",
       "      <td>0.0</td>\n",
       "      <td>1.1.1</td>\n",
       "      <td>17</td>\n",
       "      <td>...</td>\n",
       "      <td>1</td>\n",
       "      <td>Paid</td>\n",
       "      <td>Games</td>\n",
       "      <td>1</td>\n",
       "      <td>1</td>\n",
       "      <td>It's the cheeky, provocative, late-night telev...</td>\n",
       "      <td>round</td>\n",
       "      <td>game</td>\n",
       "      <td>scoop</td>\n",
       "      <td>1.0</td>\n",
       "    </tr>\n",
       "    <tr>\n",
       "      <th>7184</th>\n",
       "      <td>1187617475</td>\n",
       "      <td>kubik</td>\n",
       "      <td>126644224</td>\n",
       "      <td>0.00</td>\n",
       "      <td>142</td>\n",
       "      <td>75</td>\n",
       "      <td>4.5</td>\n",
       "      <td>4.5</td>\n",
       "      <td>1.3</td>\n",
       "      <td>4</td>\n",
       "      <td>...</td>\n",
       "      <td>1</td>\n",
       "      <td>Free</td>\n",
       "      <td>Games</td>\n",
       "      <td>0</td>\n",
       "      <td>1</td>\n",
       "      <td>Place the falling blocks correctly in order to...</td>\n",
       "      <td>blocks</td>\n",
       "      <td>falling</td>\n",
       "      <td>layers</td>\n",
       "      <td>0.0</td>\n",
       "    </tr>\n",
       "    <tr>\n",
       "      <th>7185</th>\n",
       "      <td>1187682390</td>\n",
       "      <td>vr roller-coaster</td>\n",
       "      <td>120760320</td>\n",
       "      <td>0.00</td>\n",
       "      <td>30</td>\n",
       "      <td>30</td>\n",
       "      <td>4.5</td>\n",
       "      <td>4.5</td>\n",
       "      <td>0.9</td>\n",
       "      <td>4</td>\n",
       "      <td>...</td>\n",
       "      <td>1</td>\n",
       "      <td>Free</td>\n",
       "      <td>Games</td>\n",
       "      <td>0</td>\n",
       "      <td>0</td>\n",
       "      <td>A thrilling virtual reality roller coaster exp...</td>\n",
       "      <td>vox</td>\n",
       "      <td>virtual</td>\n",
       "      <td>3d</td>\n",
       "      <td>0.0</td>\n",
       "    </tr>\n",
       "    <tr>\n",
       "      <th>7186</th>\n",
       "      <td>1187779532</td>\n",
       "      <td>bret michaels emojis + lyric keyboard</td>\n",
       "      <td>111322112</td>\n",
       "      <td>1.99</td>\n",
       "      <td>15</td>\n",
       "      <td>0</td>\n",
       "      <td>4.5</td>\n",
       "      <td>0.0</td>\n",
       "      <td>1.0.2</td>\n",
       "      <td>9</td>\n",
       "      <td>...</td>\n",
       "      <td>1</td>\n",
       "      <td>Paid</td>\n",
       "      <td>Others</td>\n",
       "      <td>1</td>\n",
       "      <td>1</td>\n",
       "      <td>Rock star Bret Michaels, winner of Celebrity A...</td>\n",
       "      <td>bret</td>\n",
       "      <td>rock</td>\n",
       "      <td>lyrics</td>\n",
       "      <td>0.0</td>\n",
       "    </tr>\n",
       "    <tr>\n",
       "      <th>7187</th>\n",
       "      <td>1187838770</td>\n",
       "      <td>vr roller coaster world - virtual reality</td>\n",
       "      <td>97235968</td>\n",
       "      <td>0.00</td>\n",
       "      <td>85</td>\n",
       "      <td>32</td>\n",
       "      <td>4.5</td>\n",
       "      <td>4.5</td>\n",
       "      <td>1.0.15</td>\n",
       "      <td>12</td>\n",
       "      <td>...</td>\n",
       "      <td>1</td>\n",
       "      <td>Free</td>\n",
       "      <td>Games</td>\n",
       "      <td>0</td>\n",
       "      <td>1</td>\n",
       "      <td>VR Roller Coaster World is an app for Google C...</td>\n",
       "      <td>vr</td>\n",
       "      <td>world</td>\n",
       "      <td>coaster</td>\n",
       "      <td>1.0</td>\n",
       "    </tr>\n",
       "    <tr>\n",
       "      <th>7188</th>\n",
       "      <td>1188375727</td>\n",
       "      <td>escape the sweet shop series</td>\n",
       "      <td>90898432</td>\n",
       "      <td>0.00</td>\n",
       "      <td>3</td>\n",
       "      <td>3</td>\n",
       "      <td>5.0</td>\n",
       "      <td>5.0</td>\n",
       "      <td>1.0</td>\n",
       "      <td>4</td>\n",
       "      <td>...</td>\n",
       "      <td>1</td>\n",
       "      <td>Free</td>\n",
       "      <td>Games</td>\n",
       "      <td>0</td>\n",
       "      <td>1</td>\n",
       "      <td>5 previous escape games plus 1 new game in one...</td>\n",
       "      <td>game</td>\n",
       "      <td>escape</td>\n",
       "      <td>shop</td>\n",
       "      <td>1.0</td>\n",
       "    </tr>\n",
       "  </tbody>\n",
       "</table>\n",
       "<p>10 rows × 24 columns</p>\n",
       "</div>"
      ],
      "text/plain": [
       "              id                                    track_name  size_bytes  \\\n",
       "7179  1186126548                     escape game: illumination    52342784   \n",
       "7180  1186384912  demolition derby virtual reality (vr) racing   168774656   \n",
       "7181  1187128255                    飞刀传奇-动作武侠热血江湖即时pk传奇（登录爆金装）   537462784   \n",
       "7182  1187279979                  add-ons studio for minecraft    22999040   \n",
       "7183  1187282363                    plead the fifth - the game    27853824   \n",
       "7184  1187617475                                         kubik   126644224   \n",
       "7185  1187682390                             vr roller-coaster   120760320   \n",
       "7186  1187779532         bret michaels emojis + lyric keyboard   111322112   \n",
       "7187  1187838770     vr roller coaster world - virtual reality    97235968   \n",
       "7188  1188375727                  escape the sweet shop series    90898432   \n",
       "\n",
       "      price  rating_count_tot  rating_count_ver  user_rating  user_rating_ver  \\\n",
       "7179   0.00                23                23          4.5              4.5   \n",
       "7180   0.00                18                18          4.0              4.0   \n",
       "7181   0.99                 0                 0          0.0              0.0   \n",
       "7182   2.99                97                97          3.0              3.0   \n",
       "7183   2.99                11                 0          4.0              0.0   \n",
       "7184   0.00               142                75          4.5              4.5   \n",
       "7185   0.00                30                30          4.5              4.5   \n",
       "7186   1.99                15                 0          4.5              0.0   \n",
       "7187   0.00                85                32          4.5              4.5   \n",
       "7188   0.00                 3                 3          5.0              5.0   \n",
       "\n",
       "         ver  cont_rating    ...    vpp_lic  category  broad_genre  isNotFree  \\\n",
       "7179     1.0            4    ...          1      Free        Games          0   \n",
       "7180   1.0.0           12    ...          1      Free        Games          0   \n",
       "7181   2.1.0            9    ...          1      Paid        Games          1   \n",
       "7182     1.0            4    ...          1      Paid        Games          1   \n",
       "7183   1.1.1           17    ...          1      Paid        Games          1   \n",
       "7184     1.3            4    ...          1      Free        Games          0   \n",
       "7185     0.9            4    ...          1      Free        Games          0   \n",
       "7186   1.0.2            9    ...          1      Paid       Others          1   \n",
       "7187  1.0.15           12    ...          1      Free        Games          0   \n",
       "7188     1.0            4    ...          1      Free        Games          0   \n",
       "\n",
       "      major_version                                           app_desc  \\\n",
       "7179              1  Escape from here! \\n\\nTap on the objects in th...   \n",
       "7180              1  Multiplayer Demolition Derby goes Virtual Real...   \n",
       "7181              2  《飞刀传奇》是新一代热血武侠ARPG帮派战斗手游，主打大规模武侠帮派PK的核心玩法，开放【武...   \n",
       "7182              1  The makers of the official Minecraft Skin Stud...   \n",
       "7183              1  It's the cheeky, provocative, late-night telev...   \n",
       "7184              1  Place the falling blocks correctly in order to...   \n",
       "7185              0  A thrilling virtual reality roller coaster exp...   \n",
       "7186              1  Rock star Bret Michaels, winner of Celebrity A...   \n",
       "7187              1  VR Roller Coaster World is an app for Google C...   \n",
       "7188              1  5 previous escape games plus 1 new game in one...   \n",
       "\n",
       "     most_freq_word_1  most_freq_word_2  most_freq_word_3 succesful  \n",
       "7179            items              look            closer       1.0  \n",
       "7180               vr            racing               car       1.0  \n",
       "7181               情缘                 、                 情       0.0  \n",
       "7182        minecraft             horse            rabbit       0.0  \n",
       "7183            round              game             scoop       1.0  \n",
       "7184           blocks           falling            layers       0.0  \n",
       "7185              vox           virtual                3d       0.0  \n",
       "7186             bret              rock            lyrics       0.0  \n",
       "7187               vr             world           coaster       1.0  \n",
       "7188             game            escape              shop       1.0  \n",
       "\n",
       "[10 rows x 24 columns]"
      ]
     },
     "execution_count": 43,
     "metadata": {},
     "output_type": "execute_result"
    }
   ],
   "source": [
    "m['succesful'] = apps['user_rating'].apply(lambda x: 1 if x > 3 else 0)    \n",
    "m.tail(10)"
   ]
  },
  {
   "cell_type": "markdown",
   "metadata": {},
   "source": [
    "Agregamos la columna que va a definir si es una aplicación exitosa. Como mencionamos antes, son aplicaciones exitosas aquellas con user rating mayor o igual a 4.\n",
    "\n"
   ]
  },
  {
   "cell_type": "markdown",
   "metadata": {},
   "source": [
    "***\n",
    "Eliminamos las columnas ID y category. \n",
    "\n",
    "Esta decisión fue tomada porque, para el caso de ID, como se ve en el plot del coeficiente de Perason, la correlación con el resto de los atributos es 0 o menor a 0.\n",
    "\n",
    "Y para el caso de category, la columna isNotFree representa lo mismo."
   ]
  },
  {
   "cell_type": "code",
   "execution_count": 44,
   "metadata": {
    "scrolled": false
   },
   "outputs": [
    {
     "data": {
      "text/html": [
       "<div>\n",
       "<style scoped>\n",
       "    .dataframe tbody tr th:only-of-type {\n",
       "        vertical-align: middle;\n",
       "    }\n",
       "\n",
       "    .dataframe tbody tr th {\n",
       "        vertical-align: top;\n",
       "    }\n",
       "\n",
       "    .dataframe thead th {\n",
       "        text-align: right;\n",
       "    }\n",
       "</style>\n",
       "<table border=\"1\" class=\"dataframe\">\n",
       "  <thead>\n",
       "    <tr style=\"text-align: right;\">\n",
       "      <th></th>\n",
       "      <th>track_name</th>\n",
       "      <th>size_bytes</th>\n",
       "      <th>price</th>\n",
       "      <th>rating_count_tot</th>\n",
       "      <th>rating_count_ver</th>\n",
       "      <th>user_rating</th>\n",
       "      <th>user_rating_ver</th>\n",
       "      <th>ver</th>\n",
       "      <th>cont_rating</th>\n",
       "      <th>prime_genre</th>\n",
       "      <th>...</th>\n",
       "      <th>lang.num</th>\n",
       "      <th>vpp_lic</th>\n",
       "      <th>broad_genre</th>\n",
       "      <th>isNotFree</th>\n",
       "      <th>major_version</th>\n",
       "      <th>app_desc</th>\n",
       "      <th>most_freq_word_1</th>\n",
       "      <th>most_freq_word_2</th>\n",
       "      <th>most_freq_word_3</th>\n",
       "      <th>succesful</th>\n",
       "    </tr>\n",
       "  </thead>\n",
       "  <tbody>\n",
       "    <tr>\n",
       "      <th>7184</th>\n",
       "      <td>kubik</td>\n",
       "      <td>126644224</td>\n",
       "      <td>0.00</td>\n",
       "      <td>142</td>\n",
       "      <td>75</td>\n",
       "      <td>4.5</td>\n",
       "      <td>4.5</td>\n",
       "      <td>1.3</td>\n",
       "      <td>4</td>\n",
       "      <td>Games</td>\n",
       "      <td>...</td>\n",
       "      <td>1</td>\n",
       "      <td>1</td>\n",
       "      <td>Games</td>\n",
       "      <td>0</td>\n",
       "      <td>1</td>\n",
       "      <td>Place the falling blocks correctly in order to...</td>\n",
       "      <td>blocks</td>\n",
       "      <td>falling</td>\n",
       "      <td>layers</td>\n",
       "      <td>0.0</td>\n",
       "    </tr>\n",
       "    <tr>\n",
       "      <th>7185</th>\n",
       "      <td>vr roller-coaster</td>\n",
       "      <td>120760320</td>\n",
       "      <td>0.00</td>\n",
       "      <td>30</td>\n",
       "      <td>30</td>\n",
       "      <td>4.5</td>\n",
       "      <td>4.5</td>\n",
       "      <td>0.9</td>\n",
       "      <td>4</td>\n",
       "      <td>Games</td>\n",
       "      <td>...</td>\n",
       "      <td>1</td>\n",
       "      <td>1</td>\n",
       "      <td>Games</td>\n",
       "      <td>0</td>\n",
       "      <td>0</td>\n",
       "      <td>A thrilling virtual reality roller coaster exp...</td>\n",
       "      <td>vox</td>\n",
       "      <td>virtual</td>\n",
       "      <td>3d</td>\n",
       "      <td>0.0</td>\n",
       "    </tr>\n",
       "    <tr>\n",
       "      <th>7186</th>\n",
       "      <td>bret michaels emojis + lyric keyboard</td>\n",
       "      <td>111322112</td>\n",
       "      <td>1.99</td>\n",
       "      <td>15</td>\n",
       "      <td>0</td>\n",
       "      <td>4.5</td>\n",
       "      <td>0.0</td>\n",
       "      <td>1.0.2</td>\n",
       "      <td>9</td>\n",
       "      <td>Utilities</td>\n",
       "      <td>...</td>\n",
       "      <td>1</td>\n",
       "      <td>1</td>\n",
       "      <td>Others</td>\n",
       "      <td>1</td>\n",
       "      <td>1</td>\n",
       "      <td>Rock star Bret Michaels, winner of Celebrity A...</td>\n",
       "      <td>bret</td>\n",
       "      <td>rock</td>\n",
       "      <td>lyrics</td>\n",
       "      <td>0.0</td>\n",
       "    </tr>\n",
       "    <tr>\n",
       "      <th>7187</th>\n",
       "      <td>vr roller coaster world - virtual reality</td>\n",
       "      <td>97235968</td>\n",
       "      <td>0.00</td>\n",
       "      <td>85</td>\n",
       "      <td>32</td>\n",
       "      <td>4.5</td>\n",
       "      <td>4.5</td>\n",
       "      <td>1.0.15</td>\n",
       "      <td>12</td>\n",
       "      <td>Games</td>\n",
       "      <td>...</td>\n",
       "      <td>2</td>\n",
       "      <td>1</td>\n",
       "      <td>Games</td>\n",
       "      <td>0</td>\n",
       "      <td>1</td>\n",
       "      <td>VR Roller Coaster World is an app for Google C...</td>\n",
       "      <td>vr</td>\n",
       "      <td>world</td>\n",
       "      <td>coaster</td>\n",
       "      <td>1.0</td>\n",
       "    </tr>\n",
       "    <tr>\n",
       "      <th>7188</th>\n",
       "      <td>escape the sweet shop series</td>\n",
       "      <td>90898432</td>\n",
       "      <td>0.00</td>\n",
       "      <td>3</td>\n",
       "      <td>3</td>\n",
       "      <td>5.0</td>\n",
       "      <td>5.0</td>\n",
       "      <td>1.0</td>\n",
       "      <td>4</td>\n",
       "      <td>Games</td>\n",
       "      <td>...</td>\n",
       "      <td>2</td>\n",
       "      <td>1</td>\n",
       "      <td>Games</td>\n",
       "      <td>0</td>\n",
       "      <td>1</td>\n",
       "      <td>5 previous escape games plus 1 new game in one...</td>\n",
       "      <td>game</td>\n",
       "      <td>escape</td>\n",
       "      <td>shop</td>\n",
       "      <td>1.0</td>\n",
       "    </tr>\n",
       "  </tbody>\n",
       "</table>\n",
       "<p>5 rows × 22 columns</p>\n",
       "</div>"
      ],
      "text/plain": [
       "                                     track_name  size_bytes  price  \\\n",
       "7184                                      kubik   126644224   0.00   \n",
       "7185                          vr roller-coaster   120760320   0.00   \n",
       "7186      bret michaels emojis + lyric keyboard   111322112   1.99   \n",
       "7187  vr roller coaster world - virtual reality    97235968   0.00   \n",
       "7188               escape the sweet shop series    90898432   0.00   \n",
       "\n",
       "      rating_count_tot  rating_count_ver  user_rating  user_rating_ver  \\\n",
       "7184               142                75          4.5              4.5   \n",
       "7185                30                30          4.5              4.5   \n",
       "7186                15                 0          4.5              0.0   \n",
       "7187                85                32          4.5              4.5   \n",
       "7188                 3                 3          5.0              5.0   \n",
       "\n",
       "         ver  cont_rating prime_genre    ...     lang.num  vpp_lic  \\\n",
       "7184     1.3            4       Games    ...            1        1   \n",
       "7185     0.9            4       Games    ...            1        1   \n",
       "7186   1.0.2            9   Utilities    ...            1        1   \n",
       "7187  1.0.15           12       Games    ...            2        1   \n",
       "7188     1.0            4       Games    ...            2        1   \n",
       "\n",
       "      broad_genre  isNotFree major_version  \\\n",
       "7184        Games          0             1   \n",
       "7185        Games          0             0   \n",
       "7186       Others          1             1   \n",
       "7187        Games          0             1   \n",
       "7188        Games          0             1   \n",
       "\n",
       "                                               app_desc  most_freq_word_1  \\\n",
       "7184  Place the falling blocks correctly in order to...            blocks   \n",
       "7185  A thrilling virtual reality roller coaster exp...               vox   \n",
       "7186  Rock star Bret Michaels, winner of Celebrity A...              bret   \n",
       "7187  VR Roller Coaster World is an app for Google C...                vr   \n",
       "7188  5 previous escape games plus 1 new game in one...              game   \n",
       "\n",
       "     most_freq_word_2 most_freq_word_3 succesful  \n",
       "7184          falling           layers       0.0  \n",
       "7185          virtual               3d       0.0  \n",
       "7186             rock           lyrics       0.0  \n",
       "7187            world          coaster       1.0  \n",
       "7188           escape             shop       1.0  \n",
       "\n",
       "[5 rows x 22 columns]"
      ]
     },
     "execution_count": 44,
     "metadata": {},
     "output_type": "execute_result"
    }
   ],
   "source": [
    "m = m.drop(['id', 'category'], axis=1)\n",
    "m.tail()"
   ]
  },
  {
   "cell_type": "code",
   "execution_count": 45,
   "metadata": {},
   "outputs": [
    {
     "data": {
      "text/plain": [
       "track_name          False\n",
       "size_bytes          False\n",
       "price               False\n",
       "rating_count_tot    False\n",
       "rating_count_ver    False\n",
       "user_rating         False\n",
       "user_rating_ver     False\n",
       "ver                 False\n",
       "cont_rating         False\n",
       "prime_genre         False\n",
       "sup_devices.num     False\n",
       "ipadSc_urls.num     False\n",
       "lang.num            False\n",
       "vpp_lic             False\n",
       "broad_genre         False\n",
       "isNotFree           False\n",
       "major_version       False\n",
       "app_desc            False\n",
       "most_freq_word_1    False\n",
       "most_freq_word_2     True\n",
       "most_freq_word_3     True\n",
       "succesful            True\n",
       "dtype: bool"
      ]
     },
     "execution_count": 45,
     "metadata": {},
     "output_type": "execute_result"
    }
   ],
   "source": [
    "m.isnull().any()"
   ]
  },
  {
   "cell_type": "markdown",
   "metadata": {},
   "source": [
    "Vemos que tenemos valores nulos en: \n",
    "* most_freq_word_2     True\n",
    "* most_freq_word_3     True\n",
    "* succesful            True\n",
    "\n",
    "Vamos a analizar cuántos registros de cada uno son los que cuentan con estos valores nulos"
   ]
  },
  {
   "cell_type": "code",
   "execution_count": 46,
   "metadata": {},
   "outputs": [
    {
     "data": {
      "text/plain": [
       "8"
      ]
     },
     "execution_count": 46,
     "metadata": {},
     "output_type": "execute_result"
    }
   ],
   "source": [
    "m.succesful.isnull().sum()"
   ]
  },
  {
   "cell_type": "code",
   "execution_count": 47,
   "metadata": {
    "scrolled": false
   },
   "outputs": [
    {
     "data": {
      "text/html": [
       "<div>\n",
       "<style scoped>\n",
       "    .dataframe tbody tr th:only-of-type {\n",
       "        vertical-align: middle;\n",
       "    }\n",
       "\n",
       "    .dataframe tbody tr th {\n",
       "        vertical-align: top;\n",
       "    }\n",
       "\n",
       "    .dataframe thead th {\n",
       "        text-align: right;\n",
       "    }\n",
       "</style>\n",
       "<table border=\"1\" class=\"dataframe\">\n",
       "  <thead>\n",
       "    <tr style=\"text-align: right;\">\n",
       "      <th></th>\n",
       "      <th>track_name</th>\n",
       "      <th>size_bytes</th>\n",
       "      <th>price</th>\n",
       "      <th>rating_count_tot</th>\n",
       "      <th>rating_count_ver</th>\n",
       "      <th>user_rating</th>\n",
       "      <th>user_rating_ver</th>\n",
       "      <th>ver</th>\n",
       "      <th>cont_rating</th>\n",
       "      <th>prime_genre</th>\n",
       "      <th>...</th>\n",
       "      <th>lang.num</th>\n",
       "      <th>vpp_lic</th>\n",
       "      <th>broad_genre</th>\n",
       "      <th>isNotFree</th>\n",
       "      <th>major_version</th>\n",
       "      <th>app_desc</th>\n",
       "      <th>most_freq_word_1</th>\n",
       "      <th>most_freq_word_2</th>\n",
       "      <th>most_freq_word_3</th>\n",
       "      <th>succesful</th>\n",
       "    </tr>\n",
       "  </thead>\n",
       "  <tbody>\n",
       "    <tr>\n",
       "      <th>224</th>\n",
       "      <td>the impossible quiz!</td>\n",
       "      <td>44652544</td>\n",
       "      <td>0.00</td>\n",
       "      <td>18884</td>\n",
       "      <td>451</td>\n",
       "      <td>4.0</td>\n",
       "      <td>4.5</td>\n",
       "      <td>1.62</td>\n",
       "      <td>9</td>\n",
       "      <td>Entertainment</td>\n",
       "      <td>...</td>\n",
       "      <td>1</td>\n",
       "      <td>1</td>\n",
       "      <td>Entertainment</td>\n",
       "      <td>0</td>\n",
       "      <td>1</td>\n",
       "      <td>It’s not the \"difficult quiz\". It’s not the \"r...</td>\n",
       "      <td>quiz</td>\n",
       "      <td>impossible</td>\n",
       "      <td>it</td>\n",
       "      <td>NaN</td>\n",
       "    </tr>\n",
       "    <tr>\n",
       "      <th>1133</th>\n",
       "      <td>abrsm aural trainer grades 1-5</td>\n",
       "      <td>329866240</td>\n",
       "      <td>7.99</td>\n",
       "      <td>0</td>\n",
       "      <td>0</td>\n",
       "      <td>0.0</td>\n",
       "      <td>0.0</td>\n",
       "      <td>2.5</td>\n",
       "      <td>4</td>\n",
       "      <td>Education</td>\n",
       "      <td>...</td>\n",
       "      <td>1</td>\n",
       "      <td>1</td>\n",
       "      <td>Education</td>\n",
       "      <td>1</td>\n",
       "      <td>2</td>\n",
       "      <td>The OFFICIAL ABRSM Aural Trainer contains inte...</td>\n",
       "      <td>music</td>\n",
       "      <td>aural</td>\n",
       "      <td>abrsm</td>\n",
       "      <td>NaN</td>\n",
       "    </tr>\n",
       "    <tr>\n",
       "      <th>3092</th>\n",
       "      <td>todo number matrix: brain teasers, logic puzzl...</td>\n",
       "      <td>41566208</td>\n",
       "      <td>0.99</td>\n",
       "      <td>15</td>\n",
       "      <td>5</td>\n",
       "      <td>4.5</td>\n",
       "      <td>4.0</td>\n",
       "      <td>1.1.1</td>\n",
       "      <td>4</td>\n",
       "      <td>Education</td>\n",
       "      <td>...</td>\n",
       "      <td>8</td>\n",
       "      <td>1</td>\n",
       "      <td>Education</td>\n",
       "      <td>1</td>\n",
       "      <td>1</td>\n",
       "      <td>4.5 stars! \"Todo Number Matrix is a unique mat...</td>\n",
       "      <td>todo</td>\n",
       "      <td>number</td>\n",
       "      <td>children</td>\n",
       "      <td>NaN</td>\n",
       "    </tr>\n",
       "    <tr>\n",
       "      <th>3224</th>\n",
       "      <td>萌店-朋友圈的美味生活</td>\n",
       "      <td>85620736</td>\n",
       "      <td>0.00</td>\n",
       "      <td>0</td>\n",
       "      <td>0</td>\n",
       "      <td>0.0</td>\n",
       "      <td>0.0</td>\n",
       "      <td>4.7.0</td>\n",
       "      <td>4</td>\n",
       "      <td>Shopping</td>\n",
       "      <td>...</td>\n",
       "      <td>2</td>\n",
       "      <td>1</td>\n",
       "      <td>Others</td>\n",
       "      <td>0</td>\n",
       "      <td>4</td>\n",
       "      <td>萌店，朋友圈的品质生活！\\n萌店成立于2015年3月，是国内领先的移动社交电商平台，专注于美...</td>\n",
       "      <td>地道中国馆</td>\n",
       "      <td>让用户省时省心地品尝全国各地的特色乡味！</td>\n",
       "      <td>和</td>\n",
       "      <td>NaN</td>\n",
       "    </tr>\n",
       "    <tr>\n",
       "      <th>3581</th>\n",
       "      <td>green riding hood</td>\n",
       "      <td>316589056</td>\n",
       "      <td>0.00</td>\n",
       "      <td>392</td>\n",
       "      <td>2</td>\n",
       "      <td>4.0</td>\n",
       "      <td>5.0</td>\n",
       "      <td>1.2.1</td>\n",
       "      <td>4</td>\n",
       "      <td>Book</td>\n",
       "      <td>...</td>\n",
       "      <td>12</td>\n",
       "      <td>1</td>\n",
       "      <td>Others</td>\n",
       "      <td>0</td>\n",
       "      <td>1</td>\n",
       "      <td>* \"Free App of the Week\" in 2017\\n* iPad App o...</td>\n",
       "      <td>app</td>\n",
       "      <td>riding</td>\n",
       "      <td>green</td>\n",
       "      <td>NaN</td>\n",
       "    </tr>\n",
       "    <tr>\n",
       "      <th>3668</th>\n",
       "      <td>immortal legends - td</td>\n",
       "      <td>273789952</td>\n",
       "      <td>0.00</td>\n",
       "      <td>26</td>\n",
       "      <td>26</td>\n",
       "      <td>3.0</td>\n",
       "      <td>3.0</td>\n",
       "      <td>2.0.0</td>\n",
       "      <td>9</td>\n",
       "      <td>Games</td>\n",
       "      <td>...</td>\n",
       "      <td>3</td>\n",
       "      <td>1</td>\n",
       "      <td>Games</td>\n",
       "      <td>0</td>\n",
       "      <td>2</td>\n",
       "      <td>Defend your spirit master in epic battles, evo...</td>\n",
       "      <td>heroes</td>\n",
       "      <td>journey</td>\n",
       "      <td>across</td>\n",
       "      <td>NaN</td>\n",
       "    </tr>\n",
       "    <tr>\n",
       "      <th>4121</th>\n",
       "      <td>jcnews - anime &amp; game culture</td>\n",
       "      <td>25467904</td>\n",
       "      <td>0.00</td>\n",
       "      <td>0</td>\n",
       "      <td>0</td>\n",
       "      <td>0.0</td>\n",
       "      <td>0.0</td>\n",
       "      <td>2.0.5</td>\n",
       "      <td>17</td>\n",
       "      <td>News</td>\n",
       "      <td>...</td>\n",
       "      <td>31</td>\n",
       "      <td>1</td>\n",
       "      <td>Others</td>\n",
       "      <td>0</td>\n",
       "      <td>2</td>\n",
       "      <td>We'll update the latest news of Japanese anima...</td>\n",
       "      <td>news</td>\n",
       "      <td>◆</td>\n",
       "      <td>you</td>\n",
       "      <td>NaN</td>\n",
       "    </tr>\n",
       "    <tr>\n",
       "      <th>4176</th>\n",
       "      <td>ゲームプレイで賞金ゲット！ポットハンター</td>\n",
       "      <td>292899840</td>\n",
       "      <td>0.00</td>\n",
       "      <td>0</td>\n",
       "      <td>0</td>\n",
       "      <td>0.0</td>\n",
       "      <td>0.0</td>\n",
       "      <td>2.1.6</td>\n",
       "      <td>17</td>\n",
       "      <td>Games</td>\n",
       "      <td>...</td>\n",
       "      <td>1</td>\n",
       "      <td>1</td>\n",
       "      <td>Games</td>\n",
       "      <td>0</td>\n",
       "      <td>2</td>\n",
       "      <td>累計賞金200万円突破！「ポットハンター」\\n賞金付きゲームアプリの決定版がリニューアルして...</td>\n",
       "      <td>--</td>\n",
       "      <td>ง</td>\n",
       "      <td>▼</td>\n",
       "      <td>NaN</td>\n",
       "    </tr>\n",
       "  </tbody>\n",
       "</table>\n",
       "<p>8 rows × 22 columns</p>\n",
       "</div>"
      ],
      "text/plain": [
       "                                             track_name  size_bytes  price  \\\n",
       "224                                the impossible quiz!    44652544   0.00   \n",
       "1133                     abrsm aural trainer grades 1-5   329866240   7.99   \n",
       "3092  todo number matrix: brain teasers, logic puzzl...    41566208   0.99   \n",
       "3224                                        萌店-朋友圈的美味生活    85620736   0.00   \n",
       "3581                                  green riding hood   316589056   0.00   \n",
       "3668                              immortal legends - td   273789952   0.00   \n",
       "4121                      jcnews - anime & game culture    25467904   0.00   \n",
       "4176                               ゲームプレイで賞金ゲット！ポットハンター   292899840   0.00   \n",
       "\n",
       "      rating_count_tot  rating_count_ver  user_rating  user_rating_ver    ver  \\\n",
       "224              18884               451          4.0              4.5   1.62   \n",
       "1133                 0                 0          0.0              0.0    2.5   \n",
       "3092                15                 5          4.5              4.0  1.1.1   \n",
       "3224                 0                 0          0.0              0.0  4.7.0   \n",
       "3581               392                 2          4.0              5.0  1.2.1   \n",
       "3668                26                26          3.0              3.0  2.0.0   \n",
       "4121                 0                 0          0.0              0.0  2.0.5   \n",
       "4176                 0                 0          0.0              0.0  2.1.6   \n",
       "\n",
       "      cont_rating    prime_genre    ...     lang.num  vpp_lic    broad_genre  \\\n",
       "224             9  Entertainment    ...            1        1  Entertainment   \n",
       "1133            4      Education    ...            1        1      Education   \n",
       "3092            4      Education    ...            8        1      Education   \n",
       "3224            4       Shopping    ...            2        1         Others   \n",
       "3581            4           Book    ...           12        1         Others   \n",
       "3668            9          Games    ...            3        1          Games   \n",
       "4121           17           News    ...           31        1         Others   \n",
       "4176           17          Games    ...            1        1          Games   \n",
       "\n",
       "      isNotFree major_version  \\\n",
       "224           0             1   \n",
       "1133          1             2   \n",
       "3092          1             1   \n",
       "3224          0             4   \n",
       "3581          0             1   \n",
       "3668          0             2   \n",
       "4121          0             2   \n",
       "4176          0             2   \n",
       "\n",
       "                                               app_desc  most_freq_word_1  \\\n",
       "224   It’s not the \"difficult quiz\". It’s not the \"r...              quiz   \n",
       "1133  The OFFICIAL ABRSM Aural Trainer contains inte...             music   \n",
       "3092  4.5 stars! \"Todo Number Matrix is a unique mat...              todo   \n",
       "3224  萌店，朋友圈的品质生活！\\n萌店成立于2015年3月，是国内领先的移动社交电商平台，专注于美...             地道中国馆   \n",
       "3581  * \"Free App of the Week\" in 2017\\n* iPad App o...               app   \n",
       "3668  Defend your spirit master in epic battles, evo...            heroes   \n",
       "4121  We'll update the latest news of Japanese anima...              news   \n",
       "4176  累計賞金200万円突破！「ポットハンター」\\n賞金付きゲームアプリの決定版がリニューアルして...                --   \n",
       "\n",
       "          most_freq_word_2 most_freq_word_3 succesful  \n",
       "224             impossible               it       NaN  \n",
       "1133                 aural            abrsm       NaN  \n",
       "3092                number         children       NaN  \n",
       "3224  让用户省时省心地品尝全国各地的特色乡味！                和       NaN  \n",
       "3581                riding            green       NaN  \n",
       "3668               journey           across       NaN  \n",
       "4121                     ◆              you       NaN  \n",
       "4176                     ง                ▼       NaN  \n",
       "\n",
       "[8 rows x 22 columns]"
      ]
     },
     "execution_count": 47,
     "metadata": {},
     "output_type": "execute_result"
    }
   ],
   "source": [
    "nan_rows = m[m['succesful'].isnull()]\n",
    "nan_rows"
   ]
  },
  {
   "cell_type": "markdown",
   "metadata": {},
   "source": [
    "Para el caso de ***succesful*** son solo 8 registros. Al ser tan pocos determinamos directamente eliminar dichos registros"
   ]
  },
  {
   "cell_type": "code",
   "execution_count": 48,
   "metadata": {},
   "outputs": [
    {
     "data": {
      "text/plain": [
       "7"
      ]
     },
     "execution_count": 48,
     "metadata": {},
     "output_type": "execute_result"
    }
   ],
   "source": [
    "m.most_freq_word_2.isnull().sum()"
   ]
  },
  {
   "cell_type": "code",
   "execution_count": 49,
   "metadata": {},
   "outputs": [
    {
     "data": {
      "text/html": [
       "<div>\n",
       "<style scoped>\n",
       "    .dataframe tbody tr th:only-of-type {\n",
       "        vertical-align: middle;\n",
       "    }\n",
       "\n",
       "    .dataframe tbody tr th {\n",
       "        vertical-align: top;\n",
       "    }\n",
       "\n",
       "    .dataframe thead th {\n",
       "        text-align: right;\n",
       "    }\n",
       "</style>\n",
       "<table border=\"1\" class=\"dataframe\">\n",
       "  <thead>\n",
       "    <tr style=\"text-align: right;\">\n",
       "      <th></th>\n",
       "      <th>track_name</th>\n",
       "      <th>size_bytes</th>\n",
       "      <th>price</th>\n",
       "      <th>rating_count_tot</th>\n",
       "      <th>rating_count_ver</th>\n",
       "      <th>user_rating</th>\n",
       "      <th>user_rating_ver</th>\n",
       "      <th>ver</th>\n",
       "      <th>cont_rating</th>\n",
       "      <th>prime_genre</th>\n",
       "      <th>...</th>\n",
       "      <th>lang.num</th>\n",
       "      <th>vpp_lic</th>\n",
       "      <th>broad_genre</th>\n",
       "      <th>isNotFree</th>\n",
       "      <th>major_version</th>\n",
       "      <th>app_desc</th>\n",
       "      <th>most_freq_word_1</th>\n",
       "      <th>most_freq_word_2</th>\n",
       "      <th>most_freq_word_3</th>\n",
       "      <th>succesful</th>\n",
       "    </tr>\n",
       "  </thead>\n",
       "  <tbody>\n",
       "    <tr>\n",
       "      <th>4899</th>\n",
       "      <td>和我信</td>\n",
       "      <td>97892352</td>\n",
       "      <td>0.00</td>\n",
       "      <td>0</td>\n",
       "      <td>0</td>\n",
       "      <td>0.0</td>\n",
       "      <td>0.0</td>\n",
       "      <td>2.2.1</td>\n",
       "      <td>17</td>\n",
       "      <td>Lifestyle</td>\n",
       "      <td>...</td>\n",
       "      <td>2</td>\n",
       "      <td>1</td>\n",
       "      <td>Others</td>\n",
       "      <td>0</td>\n",
       "      <td>2</td>\n",
       "      <td>和我信是一款基于手机号的一站式服务应用。为个人提供缴话费、查流量、赚流量等通信服务，还能一号...</td>\n",
       "      <td>和我信是一款基于手机号的一站式服务应用。为个人提供缴话费、查流量、赚流量等通信服务，还能一号...</td>\n",
       "      <td>NaN</td>\n",
       "      <td>NaN</td>\n",
       "      <td>1.0</td>\n",
       "    </tr>\n",
       "    <tr>\n",
       "      <th>5890</th>\n",
       "      <td>梦幻轩辕</td>\n",
       "      <td>267673600</td>\n",
       "      <td>0.99</td>\n",
       "      <td>0</td>\n",
       "      <td>0</td>\n",
       "      <td>0.0</td>\n",
       "      <td>0.0</td>\n",
       "      <td>10.99</td>\n",
       "      <td>4</td>\n",
       "      <td>Games</td>\n",
       "      <td>...</td>\n",
       "      <td>1</td>\n",
       "      <td>1</td>\n",
       "      <td>Games</td>\n",
       "      <td>1</td>\n",
       "      <td>10</td>\n",
       "      <td>《梦幻轩辕》是由天趣网络开发的一款MMORPG手游，拥有时尚Q萌换装，的大型MMORPG角色...</td>\n",
       "      <td>《梦幻轩辕》是由天趣网络开发的一款mmorpg手游，拥有时尚q萌换装，的大型mmorpg角色...</td>\n",
       "      <td>NaN</td>\n",
       "      <td>NaN</td>\n",
       "      <td>0.0</td>\n",
       "    </tr>\n",
       "    <tr>\n",
       "      <th>5982</th>\n",
       "      <td>皮皮四川麻将</td>\n",
       "      <td>67259392</td>\n",
       "      <td>0.00</td>\n",
       "      <td>0</td>\n",
       "      <td>0</td>\n",
       "      <td>0.0</td>\n",
       "      <td>0.0</td>\n",
       "      <td>1.7</td>\n",
       "      <td>17</td>\n",
       "      <td>Games</td>\n",
       "      <td>...</td>\n",
       "      <td>1</td>\n",
       "      <td>1</td>\n",
       "      <td>Games</td>\n",
       "      <td>0</td>\n",
       "      <td>1</td>\n",
       "      <td>最流行的社交游戏平台，与现实中好友一起组局畅玩四川麻将</td>\n",
       "      <td>最流行的社交游戏平台，与现实中好友一起组局畅玩四川麻将</td>\n",
       "      <td>NaN</td>\n",
       "      <td>NaN</td>\n",
       "      <td>1.0</td>\n",
       "    </tr>\n",
       "    <tr>\n",
       "      <th>6440</th>\n",
       "      <td>目の錯覚で性格診断</td>\n",
       "      <td>27525120</td>\n",
       "      <td>0.00</td>\n",
       "      <td>0</td>\n",
       "      <td>0</td>\n",
       "      <td>0.0</td>\n",
       "      <td>0.0</td>\n",
       "      <td>1.0.6</td>\n",
       "      <td>4</td>\n",
       "      <td>Entertainment</td>\n",
       "      <td>...</td>\n",
       "      <td>1</td>\n",
       "      <td>1</td>\n",
       "      <td>Entertainment</td>\n",
       "      <td>0</td>\n",
       "      <td>1</td>\n",
       "      <td>右回り左回り、大きい小さい、視覚要因、思い込みや固定概念、本能などの目の錯覚や見え方からあな...</td>\n",
       "      <td>右回り左回り、大きい小さい、視覚要因、思い込みや固定概念、本能などの目の錯覚や見え方からあな...</td>\n",
       "      <td>NaN</td>\n",
       "      <td>NaN</td>\n",
       "      <td>0.0</td>\n",
       "    </tr>\n",
       "    <tr>\n",
       "      <th>6765</th>\n",
       "      <td>全民打金币——爽快的正版放置手游</td>\n",
       "      <td>83985408</td>\n",
       "      <td>0.00</td>\n",
       "      <td>0</td>\n",
       "      <td>0</td>\n",
       "      <td>0.0</td>\n",
       "      <td>0.0</td>\n",
       "      <td>1.6</td>\n",
       "      <td>12</td>\n",
       "      <td>Games</td>\n",
       "      <td>...</td>\n",
       "      <td>1</td>\n",
       "      <td>1</td>\n",
       "      <td>Games</td>\n",
       "      <td>0</td>\n",
       "      <td>1</td>\n",
       "      <td>《全民打金币》是一款放置类冒险手游，精美的游戏画面、炫酷流畅的人物技能、彻底解放双手，超乎想...</td>\n",
       "      <td>《全民打金币》是一款放置类冒险手游，精美的游戏画面、炫酷流畅的人物技能、彻底解放双手，超乎想...</td>\n",
       "      <td>NaN</td>\n",
       "      <td>NaN</td>\n",
       "      <td>1.0</td>\n",
       "    </tr>\n",
       "    <tr>\n",
       "      <th>7044</th>\n",
       "      <td>迷你世界-国产精品沙盒联机生存建造游戏</td>\n",
       "      <td>106102784</td>\n",
       "      <td>0.00</td>\n",
       "      <td>5</td>\n",
       "      <td>0</td>\n",
       "      <td>3.5</td>\n",
       "      <td>0.0</td>\n",
       "      <td>0.16.3</td>\n",
       "      <td>4</td>\n",
       "      <td>Games</td>\n",
       "      <td>...</td>\n",
       "      <td>2</td>\n",
       "      <td>1</td>\n",
       "      <td>Games</td>\n",
       "      <td>0</td>\n",
       "      <td>0</td>\n",
       "      <td>《迷你世界》是一款高度自由的3D沙盒游戏，这里没有等级和规则限制，这里没有特定的玩法，只有破...</td>\n",
       "      <td>《迷你世界》是一款高度自由的3d沙盒游戏，这里没有等级和规则限制，这里没有特定的玩法，只有破...</td>\n",
       "      <td>NaN</td>\n",
       "      <td>NaN</td>\n",
       "      <td>1.0</td>\n",
       "    </tr>\n",
       "    <tr>\n",
       "      <th>7112</th>\n",
       "      <td>js体育资讯</td>\n",
       "      <td>1841152</td>\n",
       "      <td>0.00</td>\n",
       "      <td>0</td>\n",
       "      <td>0</td>\n",
       "      <td>0.0</td>\n",
       "      <td>0.0</td>\n",
       "      <td>1.0</td>\n",
       "      <td>17</td>\n",
       "      <td>Entertainment</td>\n",
       "      <td>...</td>\n",
       "      <td>1</td>\n",
       "      <td>1</td>\n",
       "      <td>Entertainment</td>\n",
       "      <td>0</td>\n",
       "      <td>1</td>\n",
       "      <td>众多篮球足球比赛实时比分报道，最新鲜的体育新闻资讯，让你眼花缭乱，大饱眼福！</td>\n",
       "      <td>众多篮球足球比赛实时比分报道，最新鲜的体育新闻资讯，让你眼花缭乱，大饱眼福！</td>\n",
       "      <td>NaN</td>\n",
       "      <td>NaN</td>\n",
       "      <td>1.0</td>\n",
       "    </tr>\n",
       "  </tbody>\n",
       "</table>\n",
       "<p>7 rows × 22 columns</p>\n",
       "</div>"
      ],
      "text/plain": [
       "               track_name  size_bytes  price  rating_count_tot  \\\n",
       "4899                  和我信    97892352   0.00                 0   \n",
       "5890                 梦幻轩辕   267673600   0.99                 0   \n",
       "5982               皮皮四川麻将    67259392   0.00                 0   \n",
       "6440            目の錯覚で性格診断    27525120   0.00                 0   \n",
       "6765     全民打金币——爽快的正版放置手游    83985408   0.00                 0   \n",
       "7044  迷你世界-国产精品沙盒联机生存建造游戏   106102784   0.00                 5   \n",
       "7112               js体育资讯     1841152   0.00                 0   \n",
       "\n",
       "      rating_count_ver  user_rating  user_rating_ver     ver  cont_rating  \\\n",
       "4899                 0          0.0              0.0   2.2.1           17   \n",
       "5890                 0          0.0              0.0   10.99            4   \n",
       "5982                 0          0.0              0.0     1.7           17   \n",
       "6440                 0          0.0              0.0   1.0.6            4   \n",
       "6765                 0          0.0              0.0     1.6           12   \n",
       "7044                 0          3.5              0.0  0.16.3            4   \n",
       "7112                 0          0.0              0.0     1.0           17   \n",
       "\n",
       "        prime_genre    ...     lang.num  vpp_lic    broad_genre  isNotFree  \\\n",
       "4899      Lifestyle    ...            2        1         Others          0   \n",
       "5890          Games    ...            1        1          Games          1   \n",
       "5982          Games    ...            1        1          Games          0   \n",
       "6440  Entertainment    ...            1        1  Entertainment          0   \n",
       "6765          Games    ...            1        1          Games          0   \n",
       "7044          Games    ...            2        1          Games          0   \n",
       "7112  Entertainment    ...            1        1  Entertainment          0   \n",
       "\n",
       "     major_version                                           app_desc  \\\n",
       "4899             2  和我信是一款基于手机号的一站式服务应用。为个人提供缴话费、查流量、赚流量等通信服务，还能一号...   \n",
       "5890            10  《梦幻轩辕》是由天趣网络开发的一款MMORPG手游，拥有时尚Q萌换装，的大型MMORPG角色...   \n",
       "5982             1                        最流行的社交游戏平台，与现实中好友一起组局畅玩四川麻将   \n",
       "6440             1  右回り左回り、大きい小さい、視覚要因、思い込みや固定概念、本能などの目の錯覚や見え方からあな...   \n",
       "6765             1  《全民打金币》是一款放置类冒险手游，精美的游戏画面、炫酷流畅的人物技能、彻底解放双手，超乎想...   \n",
       "7044             0  《迷你世界》是一款高度自由的3D沙盒游戏，这里没有等级和规则限制，这里没有特定的玩法，只有破...   \n",
       "7112             1             众多篮球足球比赛实时比分报道，最新鲜的体育新闻资讯，让你眼花缭乱，大饱眼福！   \n",
       "\n",
       "                                       most_freq_word_1 most_freq_word_2  \\\n",
       "4899  和我信是一款基于手机号的一站式服务应用。为个人提供缴话费、查流量、赚流量等通信服务，还能一号...              NaN   \n",
       "5890  《梦幻轩辕》是由天趣网络开发的一款mmorpg手游，拥有时尚q萌换装，的大型mmorpg角色...              NaN   \n",
       "5982                        最流行的社交游戏平台，与现实中好友一起组局畅玩四川麻将              NaN   \n",
       "6440  右回り左回り、大きい小さい、視覚要因、思い込みや固定概念、本能などの目の錯覚や見え方からあな...              NaN   \n",
       "6765  《全民打金币》是一款放置类冒险手游，精美的游戏画面、炫酷流畅的人物技能、彻底解放双手，超乎想...              NaN   \n",
       "7044  《迷你世界》是一款高度自由的3d沙盒游戏，这里没有等级和规则限制，这里没有特定的玩法，只有破...              NaN   \n",
       "7112             众多篮球足球比赛实时比分报道，最新鲜的体育新闻资讯，让你眼花缭乱，大饱眼福！              NaN   \n",
       "\n",
       "     most_freq_word_3 succesful  \n",
       "4899              NaN       1.0  \n",
       "5890              NaN       0.0  \n",
       "5982              NaN       1.0  \n",
       "6440              NaN       0.0  \n",
       "6765              NaN       1.0  \n",
       "7044              NaN       1.0  \n",
       "7112              NaN       1.0  \n",
       "\n",
       "[7 rows x 22 columns]"
      ]
     },
     "execution_count": 49,
     "metadata": {},
     "output_type": "execute_result"
    }
   ],
   "source": [
    "nan_rows = m[m['most_freq_word_2'].isnull()]\n",
    "nan_rows"
   ]
  },
  {
   "cell_type": "markdown",
   "metadata": {},
   "source": [
    "Para el caso de ***most_freq_word_2*** son solo 7 registros. Al ser tan pocos determinamos directamente eliminar dichos registros"
   ]
  },
  {
   "cell_type": "code",
   "execution_count": 50,
   "metadata": {},
   "outputs": [
    {
     "data": {
      "text/plain": [
       "14"
      ]
     },
     "execution_count": 50,
     "metadata": {},
     "output_type": "execute_result"
    }
   ],
   "source": [
    "m.most_freq_word_3.isnull().sum()"
   ]
  },
  {
   "cell_type": "code",
   "execution_count": 51,
   "metadata": {},
   "outputs": [
    {
     "data": {
      "text/html": [
       "<div>\n",
       "<style scoped>\n",
       "    .dataframe tbody tr th:only-of-type {\n",
       "        vertical-align: middle;\n",
       "    }\n",
       "\n",
       "    .dataframe tbody tr th {\n",
       "        vertical-align: top;\n",
       "    }\n",
       "\n",
       "    .dataframe thead th {\n",
       "        text-align: right;\n",
       "    }\n",
       "</style>\n",
       "<table border=\"1\" class=\"dataframe\">\n",
       "  <thead>\n",
       "    <tr style=\"text-align: right;\">\n",
       "      <th></th>\n",
       "      <th>track_name</th>\n",
       "      <th>size_bytes</th>\n",
       "      <th>price</th>\n",
       "      <th>rating_count_tot</th>\n",
       "      <th>rating_count_ver</th>\n",
       "      <th>user_rating</th>\n",
       "      <th>user_rating_ver</th>\n",
       "      <th>ver</th>\n",
       "      <th>cont_rating</th>\n",
       "      <th>prime_genre</th>\n",
       "      <th>...</th>\n",
       "      <th>lang.num</th>\n",
       "      <th>vpp_lic</th>\n",
       "      <th>broad_genre</th>\n",
       "      <th>isNotFree</th>\n",
       "      <th>major_version</th>\n",
       "      <th>app_desc</th>\n",
       "      <th>most_freq_word_1</th>\n",
       "      <th>most_freq_word_2</th>\n",
       "      <th>most_freq_word_3</th>\n",
       "      <th>succesful</th>\n",
       "    </tr>\n",
       "  </thead>\n",
       "  <tbody>\n",
       "    <tr>\n",
       "      <th>560</th>\n",
       "      <td>土豆视频hd—高清影视综艺视频播放器</td>\n",
       "      <td>68668416</td>\n",
       "      <td>0.00</td>\n",
       "      <td>990</td>\n",
       "      <td>4</td>\n",
       "      <td>3.0</td>\n",
       "      <td>2.0</td>\n",
       "      <td>5.5.2</td>\n",
       "      <td>12</td>\n",
       "      <td>Entertainment</td>\n",
       "      <td>...</td>\n",
       "      <td>1</td>\n",
       "      <td>1</td>\n",
       "      <td>Entertainment</td>\n",
       "      <td>0</td>\n",
       "      <td>5</td>\n",
       "      <td>土豆视频—每个人都是生活的导演！无论你爱原创、动漫、电视剧，还是音乐、电影或综艺，土豆君汇聚...</td>\n",
       "      <td>土豆视频—每个人都是生活的导演！无论你爱原创、动漫、电视剧，还是音乐、电影或综艺，土豆君汇聚...</td>\n",
       "      <td>国内外大剧热综、扎堆院线大片、二次元热血动漫……就在土豆app</td>\n",
       "      <td>NaN</td>\n",
       "      <td>1.0</td>\n",
       "    </tr>\n",
       "    <tr>\n",
       "      <th>1267</th>\n",
       "      <td>上海移动掌上营业厅</td>\n",
       "      <td>61895680</td>\n",
       "      <td>0.00</td>\n",
       "      <td>22</td>\n",
       "      <td>0</td>\n",
       "      <td>3.0</td>\n",
       "      <td>0.0</td>\n",
       "      <td>4.1.8</td>\n",
       "      <td>4</td>\n",
       "      <td>Lifestyle</td>\n",
       "      <td>...</td>\n",
       "      <td>2</td>\n",
       "      <td>1</td>\n",
       "      <td>Others</td>\n",
       "      <td>0</td>\n",
       "      <td>4</td>\n",
       "      <td>上海移动手机营业厅全新改版，我们为您提供更多的业务、优惠活动；让您随时随地了解套餐资源使用情...</td>\n",
       "      <td>赶快下载来体验吧！</td>\n",
       "      <td>上海移动手机营业厅全新改版，我们为您提供更多的业务、优惠活动；让您随时随地了解套餐资源使用情...</td>\n",
       "      <td>NaN</td>\n",
       "      <td>1.0</td>\n",
       "    </tr>\n",
       "    <tr>\n",
       "      <th>1285</th>\n",
       "      <td>翼支付-只为简单生活</td>\n",
       "      <td>98640896</td>\n",
       "      <td>0.00</td>\n",
       "      <td>9</td>\n",
       "      <td>0</td>\n",
       "      <td>1.5</td>\n",
       "      <td>0.0</td>\n",
       "      <td>6.1.2</td>\n",
       "      <td>17</td>\n",
       "      <td>Finance</td>\n",
       "      <td>...</td>\n",
       "      <td>1</td>\n",
       "      <td>1</td>\n",
       "      <td>Others</td>\n",
       "      <td>0</td>\n",
       "      <td>6</td>\n",
       "      <td>翼支付是一款提供综合性移动支付业务，生活服务，理财服务的应用；融合了支付、生活服务、社交、理...</td>\n",
       "      <td>翼支付，做你所想。</td>\n",
       "      <td>翼支付是一款提供综合性移动支付业务，生活服务，理财服务的应用；融合了支付、生活服务、社交、理...</td>\n",
       "      <td>NaN</td>\n",
       "      <td>1.0</td>\n",
       "    </tr>\n",
       "    <tr>\n",
       "      <th>4899</th>\n",
       "      <td>和我信</td>\n",
       "      <td>97892352</td>\n",
       "      <td>0.00</td>\n",
       "      <td>0</td>\n",
       "      <td>0</td>\n",
       "      <td>0.0</td>\n",
       "      <td>0.0</td>\n",
       "      <td>2.2.1</td>\n",
       "      <td>17</td>\n",
       "      <td>Lifestyle</td>\n",
       "      <td>...</td>\n",
       "      <td>2</td>\n",
       "      <td>1</td>\n",
       "      <td>Others</td>\n",
       "      <td>0</td>\n",
       "      <td>2</td>\n",
       "      <td>和我信是一款基于手机号的一站式服务应用。为个人提供缴话费、查流量、赚流量等通信服务，还能一号...</td>\n",
       "      <td>和我信是一款基于手机号的一站式服务应用。为个人提供缴话费、查流量、赚流量等通信服务，还能一号...</td>\n",
       "      <td>NaN</td>\n",
       "      <td>NaN</td>\n",
       "      <td>1.0</td>\n",
       "    </tr>\n",
       "    <tr>\n",
       "      <th>4912</th>\n",
       "      <td>僕の魔球打てるの？</td>\n",
       "      <td>20328448</td>\n",
       "      <td>0.00</td>\n",
       "      <td>0</td>\n",
       "      <td>0</td>\n",
       "      <td>0.0</td>\n",
       "      <td>0.0</td>\n",
       "      <td>2.0</td>\n",
       "      <td>4</td>\n",
       "      <td>Games</td>\n",
       "      <td>...</td>\n",
       "      <td>2</td>\n",
       "      <td>1</td>\n",
       "      <td>Games</td>\n",
       "      <td>0</td>\n",
       "      <td>2</td>\n",
       "      <td>HEY!HEY!HEY!!\\nバッタービビってるぅ〜</td>\n",
       "      <td>hey</td>\n",
       "      <td>バッタービビってるぅ〜</td>\n",
       "      <td>NaN</td>\n",
       "      <td>0.0</td>\n",
       "    </tr>\n",
       "    <tr>\n",
       "      <th>5503</th>\n",
       "      <td>ひとほろぼし</td>\n",
       "      <td>44026880</td>\n",
       "      <td>0.00</td>\n",
       "      <td>0</td>\n",
       "      <td>0</td>\n",
       "      <td>0.0</td>\n",
       "      <td>0.0</td>\n",
       "      <td>1.1</td>\n",
       "      <td>12</td>\n",
       "      <td>Games</td>\n",
       "      <td>...</td>\n",
       "      <td>1</td>\n",
       "      <td>1</td>\n",
       "      <td>Games</td>\n",
       "      <td>0</td>\n",
       "      <td>1</td>\n",
       "      <td>街をなぎたおして、ひとをほろぼします。\\nほろぼした人数はみんなで共有され、着々と増えていきます。</td>\n",
       "      <td>街をなぎたおして、ひとをほろぼします。</td>\n",
       "      <td>ほろぼした人数はみんなで共有され、着々と増えていきます。</td>\n",
       "      <td>NaN</td>\n",
       "      <td>0.0</td>\n",
       "    </tr>\n",
       "    <tr>\n",
       "      <th>5890</th>\n",
       "      <td>梦幻轩辕</td>\n",
       "      <td>267673600</td>\n",
       "      <td>0.99</td>\n",
       "      <td>0</td>\n",
       "      <td>0</td>\n",
       "      <td>0.0</td>\n",
       "      <td>0.0</td>\n",
       "      <td>10.99</td>\n",
       "      <td>4</td>\n",
       "      <td>Games</td>\n",
       "      <td>...</td>\n",
       "      <td>1</td>\n",
       "      <td>1</td>\n",
       "      <td>Games</td>\n",
       "      <td>1</td>\n",
       "      <td>10</td>\n",
       "      <td>《梦幻轩辕》是由天趣网络开发的一款MMORPG手游，拥有时尚Q萌换装，的大型MMORPG角色...</td>\n",
       "      <td>《梦幻轩辕》是由天趣网络开发的一款mmorpg手游，拥有时尚q萌换装，的大型mmorpg角色...</td>\n",
       "      <td>NaN</td>\n",
       "      <td>NaN</td>\n",
       "      <td>0.0</td>\n",
       "    </tr>\n",
       "    <tr>\n",
       "      <th>5982</th>\n",
       "      <td>皮皮四川麻将</td>\n",
       "      <td>67259392</td>\n",
       "      <td>0.00</td>\n",
       "      <td>0</td>\n",
       "      <td>0</td>\n",
       "      <td>0.0</td>\n",
       "      <td>0.0</td>\n",
       "      <td>1.7</td>\n",
       "      <td>17</td>\n",
       "      <td>Games</td>\n",
       "      <td>...</td>\n",
       "      <td>1</td>\n",
       "      <td>1</td>\n",
       "      <td>Games</td>\n",
       "      <td>0</td>\n",
       "      <td>1</td>\n",
       "      <td>最流行的社交游戏平台，与现实中好友一起组局畅玩四川麻将</td>\n",
       "      <td>最流行的社交游戏平台，与现实中好友一起组局畅玩四川麻将</td>\n",
       "      <td>NaN</td>\n",
       "      <td>NaN</td>\n",
       "      <td>1.0</td>\n",
       "    </tr>\n",
       "    <tr>\n",
       "      <th>6440</th>\n",
       "      <td>目の錯覚で性格診断</td>\n",
       "      <td>27525120</td>\n",
       "      <td>0.00</td>\n",
       "      <td>0</td>\n",
       "      <td>0</td>\n",
       "      <td>0.0</td>\n",
       "      <td>0.0</td>\n",
       "      <td>1.0.6</td>\n",
       "      <td>4</td>\n",
       "      <td>Entertainment</td>\n",
       "      <td>...</td>\n",
       "      <td>1</td>\n",
       "      <td>1</td>\n",
       "      <td>Entertainment</td>\n",
       "      <td>0</td>\n",
       "      <td>1</td>\n",
       "      <td>右回り左回り、大きい小さい、視覚要因、思い込みや固定概念、本能などの目の錯覚や見え方からあな...</td>\n",
       "      <td>右回り左回り、大きい小さい、視覚要因、思い込みや固定概念、本能などの目の錯覚や見え方からあな...</td>\n",
       "      <td>NaN</td>\n",
       "      <td>NaN</td>\n",
       "      <td>0.0</td>\n",
       "    </tr>\n",
       "    <tr>\n",
       "      <th>6765</th>\n",
       "      <td>全民打金币——爽快的正版放置手游</td>\n",
       "      <td>83985408</td>\n",
       "      <td>0.00</td>\n",
       "      <td>0</td>\n",
       "      <td>0</td>\n",
       "      <td>0.0</td>\n",
       "      <td>0.0</td>\n",
       "      <td>1.6</td>\n",
       "      <td>12</td>\n",
       "      <td>Games</td>\n",
       "      <td>...</td>\n",
       "      <td>1</td>\n",
       "      <td>1</td>\n",
       "      <td>Games</td>\n",
       "      <td>0</td>\n",
       "      <td>1</td>\n",
       "      <td>《全民打金币》是一款放置类冒险手游，精美的游戏画面、炫酷流畅的人物技能、彻底解放双手，超乎想...</td>\n",
       "      <td>《全民打金币》是一款放置类冒险手游，精美的游戏画面、炫酷流畅的人物技能、彻底解放双手，超乎想...</td>\n",
       "      <td>NaN</td>\n",
       "      <td>NaN</td>\n",
       "      <td>1.0</td>\n",
       "    </tr>\n",
       "    <tr>\n",
       "      <th>6962</th>\n",
       "      <td>gogogo</td>\n",
       "      <td>7212032</td>\n",
       "      <td>0.00</td>\n",
       "      <td>0</td>\n",
       "      <td>0</td>\n",
       "      <td>0.0</td>\n",
       "      <td>0.0</td>\n",
       "      <td>1.0</td>\n",
       "      <td>4</td>\n",
       "      <td>Shopping</td>\n",
       "      <td>...</td>\n",
       "      <td>2</td>\n",
       "      <td>1</td>\n",
       "      <td>Others</td>\n",
       "      <td>0</td>\n",
       "      <td>1</td>\n",
       "      <td>gogogo APP享受购物，享受生活</td>\n",
       "      <td>gogogo</td>\n",
       "      <td>app享受购物，享受生活</td>\n",
       "      <td>NaN</td>\n",
       "      <td>1.0</td>\n",
       "    </tr>\n",
       "    <tr>\n",
       "      <th>7019</th>\n",
       "      <td>777游戏厅-2017超人气掌上游戏厅</td>\n",
       "      <td>102120448</td>\n",
       "      <td>0.00</td>\n",
       "      <td>0</td>\n",
       "      <td>0</td>\n",
       "      <td>0.0</td>\n",
       "      <td>0.0</td>\n",
       "      <td>1.1.0</td>\n",
       "      <td>17</td>\n",
       "      <td>Games</td>\n",
       "      <td>...</td>\n",
       "      <td>1</td>\n",
       "      <td>1</td>\n",
       "      <td>Games</td>\n",
       "      <td>0</td>\n",
       "      <td>1</td>\n",
       "      <td>《777游戏厅》游戏介绍\\n游戏简介：水果机早已成为时下火爆的游艺机之一，以其刺激、激情的游...</td>\n",
       "      <td>游戏简介：水果机早已成为时下火爆的游艺机之一，以其刺激、激情的游戏玩法广受用户喜爱，而《77...</td>\n",
       "      <td>《777游戏厅》游戏介绍</td>\n",
       "      <td>NaN</td>\n",
       "      <td>0.0</td>\n",
       "    </tr>\n",
       "    <tr>\n",
       "      <th>7044</th>\n",
       "      <td>迷你世界-国产精品沙盒联机生存建造游戏</td>\n",
       "      <td>106102784</td>\n",
       "      <td>0.00</td>\n",
       "      <td>5</td>\n",
       "      <td>0</td>\n",
       "      <td>3.5</td>\n",
       "      <td>0.0</td>\n",
       "      <td>0.16.3</td>\n",
       "      <td>4</td>\n",
       "      <td>Games</td>\n",
       "      <td>...</td>\n",
       "      <td>2</td>\n",
       "      <td>1</td>\n",
       "      <td>Games</td>\n",
       "      <td>0</td>\n",
       "      <td>0</td>\n",
       "      <td>《迷你世界》是一款高度自由的3D沙盒游戏，这里没有等级和规则限制，这里没有特定的玩法，只有破...</td>\n",
       "      <td>《迷你世界》是一款高度自由的3d沙盒游戏，这里没有等级和规则限制，这里没有特定的玩法，只有破...</td>\n",
       "      <td>NaN</td>\n",
       "      <td>NaN</td>\n",
       "      <td>1.0</td>\n",
       "    </tr>\n",
       "    <tr>\n",
       "      <th>7112</th>\n",
       "      <td>js体育资讯</td>\n",
       "      <td>1841152</td>\n",
       "      <td>0.00</td>\n",
       "      <td>0</td>\n",
       "      <td>0</td>\n",
       "      <td>0.0</td>\n",
       "      <td>0.0</td>\n",
       "      <td>1.0</td>\n",
       "      <td>17</td>\n",
       "      <td>Entertainment</td>\n",
       "      <td>...</td>\n",
       "      <td>1</td>\n",
       "      <td>1</td>\n",
       "      <td>Entertainment</td>\n",
       "      <td>0</td>\n",
       "      <td>1</td>\n",
       "      <td>众多篮球足球比赛实时比分报道，最新鲜的体育新闻资讯，让你眼花缭乱，大饱眼福！</td>\n",
       "      <td>众多篮球足球比赛实时比分报道，最新鲜的体育新闻资讯，让你眼花缭乱，大饱眼福！</td>\n",
       "      <td>NaN</td>\n",
       "      <td>NaN</td>\n",
       "      <td>1.0</td>\n",
       "    </tr>\n",
       "  </tbody>\n",
       "</table>\n",
       "<p>14 rows × 22 columns</p>\n",
       "</div>"
      ],
      "text/plain": [
       "               track_name  size_bytes  price  rating_count_tot  \\\n",
       "560    土豆视频hd—高清影视综艺视频播放器    68668416   0.00               990   \n",
       "1267            上海移动掌上营业厅    61895680   0.00                22   \n",
       "1285           翼支付-只为简单生活    98640896   0.00                 9   \n",
       "4899                  和我信    97892352   0.00                 0   \n",
       "4912            僕の魔球打てるの？    20328448   0.00                 0   \n",
       "5503               ひとほろぼし    44026880   0.00                 0   \n",
       "5890                 梦幻轩辕   267673600   0.99                 0   \n",
       "5982               皮皮四川麻将    67259392   0.00                 0   \n",
       "6440            目の錯覚で性格診断    27525120   0.00                 0   \n",
       "6765     全民打金币——爽快的正版放置手游    83985408   0.00                 0   \n",
       "6962               gogogo     7212032   0.00                 0   \n",
       "7019  777游戏厅-2017超人气掌上游戏厅   102120448   0.00                 0   \n",
       "7044  迷你世界-国产精品沙盒联机生存建造游戏   106102784   0.00                 5   \n",
       "7112               js体育资讯     1841152   0.00                 0   \n",
       "\n",
       "      rating_count_ver  user_rating  user_rating_ver     ver  cont_rating  \\\n",
       "560                  4          3.0              2.0   5.5.2           12   \n",
       "1267                 0          3.0              0.0   4.1.8            4   \n",
       "1285                 0          1.5              0.0   6.1.2           17   \n",
       "4899                 0          0.0              0.0   2.2.1           17   \n",
       "4912                 0          0.0              0.0     2.0            4   \n",
       "5503                 0          0.0              0.0     1.1           12   \n",
       "5890                 0          0.0              0.0   10.99            4   \n",
       "5982                 0          0.0              0.0     1.7           17   \n",
       "6440                 0          0.0              0.0   1.0.6            4   \n",
       "6765                 0          0.0              0.0     1.6           12   \n",
       "6962                 0          0.0              0.0     1.0            4   \n",
       "7019                 0          0.0              0.0   1.1.0           17   \n",
       "7044                 0          3.5              0.0  0.16.3            4   \n",
       "7112                 0          0.0              0.0     1.0           17   \n",
       "\n",
       "        prime_genre    ...     lang.num  vpp_lic    broad_genre  isNotFree  \\\n",
       "560   Entertainment    ...            1        1  Entertainment          0   \n",
       "1267      Lifestyle    ...            2        1         Others          0   \n",
       "1285        Finance    ...            1        1         Others          0   \n",
       "4899      Lifestyle    ...            2        1         Others          0   \n",
       "4912          Games    ...            2        1          Games          0   \n",
       "5503          Games    ...            1        1          Games          0   \n",
       "5890          Games    ...            1        1          Games          1   \n",
       "5982          Games    ...            1        1          Games          0   \n",
       "6440  Entertainment    ...            1        1  Entertainment          0   \n",
       "6765          Games    ...            1        1          Games          0   \n",
       "6962       Shopping    ...            2        1         Others          0   \n",
       "7019          Games    ...            1        1          Games          0   \n",
       "7044          Games    ...            2        1          Games          0   \n",
       "7112  Entertainment    ...            1        1  Entertainment          0   \n",
       "\n",
       "     major_version                                           app_desc  \\\n",
       "560              5  土豆视频—每个人都是生活的导演！无论你爱原创、动漫、电视剧，还是音乐、电影或综艺，土豆君汇聚...   \n",
       "1267             4  上海移动手机营业厅全新改版，我们为您提供更多的业务、优惠活动；让您随时随地了解套餐资源使用情...   \n",
       "1285             6  翼支付是一款提供综合性移动支付业务，生活服务，理财服务的应用；融合了支付、生活服务、社交、理...   \n",
       "4899             2  和我信是一款基于手机号的一站式服务应用。为个人提供缴话费、查流量、赚流量等通信服务，还能一号...   \n",
       "4912             2                         HEY!HEY!HEY!!\\nバッタービビってるぅ〜   \n",
       "5503             1  街をなぎたおして、ひとをほろぼします。\\nほろぼした人数はみんなで共有され、着々と増えていきます。   \n",
       "5890            10  《梦幻轩辕》是由天趣网络开发的一款MMORPG手游，拥有时尚Q萌换装，的大型MMORPG角色...   \n",
       "5982             1                        最流行的社交游戏平台，与现实中好友一起组局畅玩四川麻将   \n",
       "6440             1  右回り左回り、大きい小さい、視覚要因、思い込みや固定概念、本能などの目の錯覚や見え方からあな...   \n",
       "6765             1  《全民打金币》是一款放置类冒险手游，精美的游戏画面、炫酷流畅的人物技能、彻底解放双手，超乎想...   \n",
       "6962             1                                gogogo APP享受购物，享受生活   \n",
       "7019             1  《777游戏厅》游戏介绍\\n游戏简介：水果机早已成为时下火爆的游艺机之一，以其刺激、激情的游...   \n",
       "7044             0  《迷你世界》是一款高度自由的3D沙盒游戏，这里没有等级和规则限制，这里没有特定的玩法，只有破...   \n",
       "7112             1             众多篮球足球比赛实时比分报道，最新鲜的体育新闻资讯，让你眼花缭乱，大饱眼福！   \n",
       "\n",
       "                                       most_freq_word_1  \\\n",
       "560   土豆视频—每个人都是生活的导演！无论你爱原创、动漫、电视剧，还是音乐、电影或综艺，土豆君汇聚...   \n",
       "1267                                          赶快下载来体验吧！   \n",
       "1285                                          翼支付，做你所想。   \n",
       "4899  和我信是一款基于手机号的一站式服务应用。为个人提供缴话费、查流量、赚流量等通信服务，还能一号...   \n",
       "4912                                                hey   \n",
       "5503                                街をなぎたおして、ひとをほろぼします。   \n",
       "5890  《梦幻轩辕》是由天趣网络开发的一款mmorpg手游，拥有时尚q萌换装，的大型mmorpg角色...   \n",
       "5982                        最流行的社交游戏平台，与现实中好友一起组局畅玩四川麻将   \n",
       "6440  右回り左回り、大きい小さい、視覚要因、思い込みや固定概念、本能などの目の錯覚や見え方からあな...   \n",
       "6765  《全民打金币》是一款放置类冒险手游，精美的游戏画面、炫酷流畅的人物技能、彻底解放双手，超乎想...   \n",
       "6962                                             gogogo   \n",
       "7019  游戏简介：水果机早已成为时下火爆的游艺机之一，以其刺激、激情的游戏玩法广受用户喜爱，而《77...   \n",
       "7044  《迷你世界》是一款高度自由的3d沙盒游戏，这里没有等级和规则限制，这里没有特定的玩法，只有破...   \n",
       "7112             众多篮球足球比赛实时比分报道，最新鲜的体育新闻资讯，让你眼花缭乱，大饱眼福！   \n",
       "\n",
       "                                       most_freq_word_2 most_freq_word_3  \\\n",
       "560                     国内外大剧热综、扎堆院线大片、二次元热血动漫……就在土豆app              NaN   \n",
       "1267  上海移动手机营业厅全新改版，我们为您提供更多的业务、优惠活动；让您随时随地了解套餐资源使用情...              NaN   \n",
       "1285  翼支付是一款提供综合性移动支付业务，生活服务，理财服务的应用；融合了支付、生活服务、社交、理...              NaN   \n",
       "4899                                                NaN              NaN   \n",
       "4912                                        バッタービビってるぅ〜              NaN   \n",
       "5503                       ほろぼした人数はみんなで共有され、着々と増えていきます。              NaN   \n",
       "5890                                                NaN              NaN   \n",
       "5982                                                NaN              NaN   \n",
       "6440                                                NaN              NaN   \n",
       "6765                                                NaN              NaN   \n",
       "6962                                       app享受购物，享受生活              NaN   \n",
       "7019                                       《777游戏厅》游戏介绍              NaN   \n",
       "7044                                                NaN              NaN   \n",
       "7112                                                NaN              NaN   \n",
       "\n",
       "     succesful  \n",
       "560        1.0  \n",
       "1267       1.0  \n",
       "1285       1.0  \n",
       "4899       1.0  \n",
       "4912       0.0  \n",
       "5503       0.0  \n",
       "5890       0.0  \n",
       "5982       1.0  \n",
       "6440       0.0  \n",
       "6765       1.0  \n",
       "6962       1.0  \n",
       "7019       0.0  \n",
       "7044       1.0  \n",
       "7112       1.0  \n",
       "\n",
       "[14 rows x 22 columns]"
      ]
     },
     "execution_count": 51,
     "metadata": {},
     "output_type": "execute_result"
    }
   ],
   "source": [
    "nan_rows = m[m['most_freq_word_3'].isnull()]\n",
    "nan_rows"
   ]
  },
  {
   "cell_type": "markdown",
   "metadata": {},
   "source": [
    "Para el caso de ***most_freq_word_3*** son solo 14 registros. Al ser tan pocos determinamos directamente eliminar dichos registros"
   ]
  },
  {
   "cell_type": "code",
   "execution_count": 52,
   "metadata": {},
   "outputs": [
    {
     "data": {
      "text/plain": [
       "track_name          False\n",
       "size_bytes          False\n",
       "price               False\n",
       "rating_count_tot    False\n",
       "rating_count_ver    False\n",
       "user_rating         False\n",
       "user_rating_ver     False\n",
       "ver                 False\n",
       "cont_rating         False\n",
       "prime_genre         False\n",
       "sup_devices.num     False\n",
       "ipadSc_urls.num     False\n",
       "lang.num            False\n",
       "vpp_lic             False\n",
       "broad_genre         False\n",
       "isNotFree           False\n",
       "major_version       False\n",
       "app_desc            False\n",
       "most_freq_word_1    False\n",
       "most_freq_word_2    False\n",
       "most_freq_word_3    False\n",
       "succesful           False\n",
       "dtype: bool"
      ]
     },
     "execution_count": 52,
     "metadata": {},
     "output_type": "execute_result"
    }
   ],
   "source": [
    "m.dropna(inplace=True)\n",
    "m.isnull().any()"
   ]
  },
  {
   "cell_type": "markdown",
   "metadata": {},
   "source": [
    "***"
   ]
  },
  {
   "cell_type": "code",
   "execution_count": 53,
   "metadata": {},
   "outputs": [
    {
     "name": "stdout",
     "output_type": "stream",
     "text": [
      "X_train shape: (5733, 31)\n",
      "X_test shape: (1434, 31)\n"
     ]
    }
   ],
   "source": [
    "m['rating_count_previo'] = m['rating_count_tot'] - m['rating_count_ver']\n",
    "\n",
    "df_train = m[['size_bytes', 'isNotFree', 'price', 'rating_count_previo', 'sup_devices.num', 'ipadSc_urls.num', 'lang.num', 'vpp_lic', 'prime_genre']]\n",
    "target = m['user_rating']\n",
    "\n",
    "df_train = pd.get_dummies(df_train)\n",
    "\n",
    "target = target.apply(lambda x: 1 if x>3 else 0)\n",
    "\n",
    "X_train, X_test, y_train, y_test = train_test_split(df_train.values, target, test_size=0.2, random_state=1234, stratify=target)\n",
    "\n",
    "print('X_train shape:', X_train.shape)\n",
    "print('X_test shape:', X_test.shape)"
   ]
  },
  {
   "cell_type": "markdown",
   "metadata": {},
   "source": [
    "# Predicciones\n",
    "Para el presente caso de estudio se eligió utilizar la métrica _Accuracy score_. De la documentación de `sklearn`:\n",
    "\n",
    "*Accuracy classification score.*\n",
    "*In multilabel classification, this function computes subset accuracy: the set of labels predicted for a sample must exactly match the corresponding set of labels in y_true.*"
   ]
  },
  {
   "cell_type": "code",
   "execution_count": 54,
   "metadata": {},
   "outputs": [
    {
     "name": "stderr",
     "output_type": "stream",
     "text": [
      "Using TensorFlow backend.\n"
     ]
    }
   ],
   "source": [
    "from sklearn.metrics import accuracy_score\n",
    "from sklearn.model_selection import KFold\n",
    "from sklearn.model_selection import cross_val_score, cross_validate\n",
    "\n",
    "from sklearn.ensemble import RandomForestClassifier\n",
    "from lightgbm import LGBMClassifier\n",
    "from xgboost import XGBClassifier\n",
    "from keras.models import Sequential"
   ]
  },
  {
   "cell_type": "code",
   "execution_count": 55,
   "metadata": {},
   "outputs": [],
   "source": [
    "from keras.layers import Dense\n",
    "from keras.wrappers.scikit_learn import KerasClassifier\n",
    "\n",
    "# Function to create model, required for KerasClassifier\n",
    "def create_model():\n",
    "    # create model\n",
    "    model = Sequential()\n",
    "    model.add(Dense(12, activation='relu'))\n",
    "    model.add(Dense(8, activation='relu'))\n",
    "    model.add(Dense(1, activation='sigmoid'))\n",
    "    \n",
    "    # Compile model\n",
    "    model.compile(optimizer='rmsprop',\n",
    "                  loss='binary_crossentropy',\n",
    "                  metrics=['accuracy'])\n",
    "    return model"
   ]
  },
  {
   "cell_type": "code",
   "execution_count": 56,
   "metadata": {},
   "outputs": [
    {
     "data": {
      "text/html": [
       "<div>\n",
       "<style scoped>\n",
       "    .dataframe tbody tr th:only-of-type {\n",
       "        vertical-align: middle;\n",
       "    }\n",
       "\n",
       "    .dataframe tbody tr th {\n",
       "        vertical-align: top;\n",
       "    }\n",
       "\n",
       "    .dataframe thead th {\n",
       "        text-align: right;\n",
       "    }\n",
       "</style>\n",
       "<table border=\"1\" class=\"dataframe\">\n",
       "  <thead>\n",
       "    <tr style=\"text-align: right;\">\n",
       "      <th></th>\n",
       "      <th>Classfier_name</th>\n",
       "      <th>train_score</th>\n",
       "      <th>test_score</th>\n",
       "    </tr>\n",
       "  </thead>\n",
       "  <tbody>\n",
       "    <tr>\n",
       "      <th>0</th>\n",
       "      <td>RandomForestClassifier</td>\n",
       "      <td>0.989403</td>\n",
       "      <td>0.830283</td>\n",
       "    </tr>\n",
       "    <tr>\n",
       "      <th>1</th>\n",
       "      <td>LGBMClassifier</td>\n",
       "      <td>0.917931</td>\n",
       "      <td>0.848944</td>\n",
       "    </tr>\n",
       "    <tr>\n",
       "      <th>2</th>\n",
       "      <td>XGBClassifier</td>\n",
       "      <td>0.868176</td>\n",
       "      <td>0.852085</td>\n",
       "    </tr>\n",
       "    <tr>\n",
       "      <th>3</th>\n",
       "      <td>KerasClassifier</td>\n",
       "      <td>0.658177</td>\n",
       "      <td>0.65824</td>\n",
       "    </tr>\n",
       "  </tbody>\n",
       "</table>\n",
       "</div>"
      ],
      "text/plain": [
       "           Classfier_name train_score test_score\n",
       "0  RandomForestClassifier    0.989403   0.830283\n",
       "1          LGBMClassifier    0.917931   0.848944\n",
       "2           XGBClassifier    0.868176   0.852085\n",
       "3         KerasClassifier    0.658177    0.65824"
      ]
     },
     "execution_count": 56,
     "metadata": {},
     "output_type": "execute_result"
    }
   ],
   "source": [
    "models = [RandomForestClassifier(), LGBMClassifier(), XGBClassifier(), KerasClassifier(build_fn=create_model, epochs=150, batch_size=10, verbose=0)]\n",
    "\n",
    "kfold = KFold(n_splits=5, random_state=1234)\n",
    "\n",
    "model_comparison = pd.DataFrame(columns=['Classfier_name', 'train_score', 'test_score'])\n",
    "\n",
    "for i, model in enumerate(models):\n",
    "    clf = model\n",
    "    cv_result = cross_validate(model, X_train, y_train, cv=kfold, scoring='accuracy')\n",
    "    model_comparison.loc[i, 'Classfier_name'] = model.__class__.__name__\n",
    "    model_comparison.loc[i, 'train_score'] = cv_result['train_score'].mean()\n",
    "    model_comparison.loc[i, 'test_score'] = cv_result['test_score'].mean()\n",
    "\n",
    "model_comparison"
   ]
  },
  {
   "cell_type": "markdown",
   "metadata": {},
   "source": [
    "# Pred basadas en descripciones"
   ]
  },
  {
   "cell_type": "code",
   "execution_count": 57,
   "metadata": {},
   "outputs": [
    {
     "name": "stdout",
     "output_type": "stream",
     "text": [
      "X_train shape: (5733, 33)\n",
      "X_test shape: (1434, 33)\n"
     ]
    }
   ],
   "source": [
    "m.loc[:, 'isGame'] = m['app_desc'].apply(lambda x: 1 if 'game' in x.lower() else 0)\n",
    "m.loc[:, 'descLen'] = m['app_desc'].apply(lambda x: len(x.lower()))\n",
    "\n",
    "df_train = m[['size_bytes', 'isNotFree', 'price', 'rating_count_previo', 'sup_devices.num', 'ipadSc_urls.num', 'lang.num', 'vpp_lic', 'prime_genre', 'isGame', 'descLen']]\n",
    "target = m['user_rating']\n",
    "\n",
    "df_train = pd.get_dummies(df_train)\n",
    "\n",
    "target = target.apply(lambda x: 1 if x > 3 else 0)\n",
    "\n",
    "X_train, X_test, y_train, y_test = train_test_split(df_train.values, target, test_size=0.2, random_state=1234, stratify=target)\n",
    "\n",
    "print('X_train shape:', X_train.shape)\n",
    "print('X_test shape:', X_test.shape)"
   ]
  },
  {
   "cell_type": "code",
   "execution_count": 58,
   "metadata": {},
   "outputs": [
    {
     "data": {
      "text/html": [
       "<div>\n",
       "<style scoped>\n",
       "    .dataframe tbody tr th:only-of-type {\n",
       "        vertical-align: middle;\n",
       "    }\n",
       "\n",
       "    .dataframe tbody tr th {\n",
       "        vertical-align: top;\n",
       "    }\n",
       "\n",
       "    .dataframe thead th {\n",
       "        text-align: right;\n",
       "    }\n",
       "</style>\n",
       "<table border=\"1\" class=\"dataframe\">\n",
       "  <thead>\n",
       "    <tr style=\"text-align: right;\">\n",
       "      <th></th>\n",
       "      <th>Classfier_name</th>\n",
       "      <th>train_score</th>\n",
       "      <th>test_score</th>\n",
       "    </tr>\n",
       "  </thead>\n",
       "  <tbody>\n",
       "    <tr>\n",
       "      <th>0</th>\n",
       "      <td>RandomForestClassifier</td>\n",
       "      <td>0.991104</td>\n",
       "      <td>0.843886</td>\n",
       "    </tr>\n",
       "    <tr>\n",
       "      <th>1</th>\n",
       "      <td>LGBMClassifier</td>\n",
       "      <td>0.934284</td>\n",
       "      <td>0.853304</td>\n",
       "    </tr>\n",
       "    <tr>\n",
       "      <th>2</th>\n",
       "      <td>XGBClassifier</td>\n",
       "      <td>0.877333</td>\n",
       "      <td>0.861329</td>\n",
       "    </tr>\n",
       "    <tr>\n",
       "      <th>3</th>\n",
       "      <td>KerasClassifier</td>\n",
       "      <td>0.446402</td>\n",
       "      <td>0.450742</td>\n",
       "    </tr>\n",
       "  </tbody>\n",
       "</table>\n",
       "</div>"
      ],
      "text/plain": [
       "           Classfier_name train_score test_score\n",
       "0  RandomForestClassifier    0.991104   0.843886\n",
       "1          LGBMClassifier    0.934284   0.853304\n",
       "2           XGBClassifier    0.877333   0.861329\n",
       "3         KerasClassifier    0.446402   0.450742"
      ]
     },
     "execution_count": 58,
     "metadata": {},
     "output_type": "execute_result"
    }
   ],
   "source": [
    "model_comparison = pd.DataFrame(columns=['Classfier_name', 'train_score', 'test_score'])\n",
    "\n",
    "for i, model in enumerate(models):\n",
    "    clf = model\n",
    "    cv_result = cross_validate(model, X_train, y_train, cv=kfold, scoring='accuracy')\n",
    "    model_comparison.loc[i, 'Classfier_name'] = model.__class__.__name__\n",
    "    model_comparison.loc[i, 'train_score'] = cv_result['train_score'].mean()\n",
    "    model_comparison.loc[i, 'test_score'] = cv_result['test_score'].mean()\n",
    "\n",
    "model_comparison"
   ]
  },
  {
   "cell_type": "code",
   "execution_count": 59,
   "metadata": {},
   "outputs": [
    {
     "data": {
      "text/plain": [
       "0"
      ]
     },
     "execution_count": 59,
     "metadata": {},
     "output_type": "execute_result"
    }
   ],
   "source": [
    "# play a sound when whole notebook finished executing\n",
    "import os\n",
    "duration = 1  # second\n",
    "freq = 1500  # Hz\n",
    "os.system('play --no-show-progress --null --channels 1 synth %s sine %f' % (duration, freq))"
   ]
  }
 ],
 "metadata": {
  "celltoolbar": "Slideshow",
  "kernelspec": {
   "display_name": "Python 3",
   "language": "python",
   "name": "python3"
  },
  "language_info": {
   "codemirror_mode": {
    "name": "ipython",
    "version": 3
   },
   "file_extension": ".py",
   "mimetype": "text/x-python",
   "name": "python",
   "nbconvert_exporter": "python",
   "pygments_lexer": "ipython3",
   "version": "3.5.2"
  }
 },
 "nbformat": 4,
 "nbformat_minor": 2
}
